{
 "cells": [
  {
   "cell_type": "code",
   "execution_count": 1,
   "id": "0a0e2d7d",
   "metadata": {},
   "outputs": [],
   "source": [
    "%load_ext autoreload\n",
    "%autoreload 2\n",
    "import utils as bu  "
   ]
  },
  {
   "cell_type": "markdown",
   "id": "e8c042d2",
   "metadata": {},
   "source": [
    "Import required packages"
   ]
  },
  {
   "cell_type": "code",
   "execution_count": 3,
   "id": "23877173",
   "metadata": {},
   "outputs": [],
   "source": [
    "from pathlib import Path\n",
    "import random\n",
    "from transformers.utils import logging\n",
    "import torch\n",
    "import os\n",
    "from functools import partial\n",
    "from transformers import (AutoTokenizer, DataCollatorForTokenClassification, \n",
    "                          AutoModelForTokenClassification, TrainingArguments, \n",
    "                          Trainer, EarlyStoppingCallback, set_seed) \n",
    "from utils import (dataset_generator, get_tokenize_and_align_labels_fn, \n",
    "                       compute_metrics, build_token_cls, hp_space, compute_objective)\n",
    "from argparse import Namespace\n",
    "import ipywidgets as widgets\n",
    "from IPython.display import display\n",
    "import evaluate\n",
    "import numpy as np \n",
    "from datetime import datetime"
   ]
  },
  {
   "cell_type": "markdown",
   "id": "9559fe2d",
   "metadata": {},
   "source": [
    "Check if running on GPU or CPU"
   ]
  },
  {
   "cell_type": "code",
   "execution_count": 4,
   "id": "6545f3b9",
   "metadata": {},
   "outputs": [
    {
     "name": "stdout",
     "output_type": "stream",
     "text": [
      "Number of available GPUs: 1\n",
      "GPU 0: NVIDIA RTX 500 Ada Generation Laptop GPU\n",
      "Using: cuda\n"
     ]
    }
   ],
   "source": [
    "\n",
    "if torch.cuda.is_available():\n",
    "    gpu_count = torch.cuda.device_count()\n",
    "    print(f\"Number of available GPUs: {gpu_count}\")\n",
    "\n",
    "    for i in range(gpu_count):\n",
    "        gpu_name = torch.cuda.get_device_name(i)\n",
    "        print(f\"GPU {i}: {gpu_name}\")\n",
    "    device = torch.device(\"cuda\")\n",
    "else:\n",
    "    device = torch.device(\"cpu\")\n",
    "\n",
    "print(\"Using:\", device)"
   ]
  },
  {
   "cell_type": "markdown",
   "id": "60b07b7b",
   "metadata": {},
   "source": [
    "Define paths to folders "
   ]
  },
  {
   "cell_type": "code",
   "execution_count": 5,
   "id": "b00cf2a7",
   "metadata": {},
   "outputs": [],
   "source": [
    "PROJECT_ROOT = Path.cwd()\n",
    "if not (PROJECT_ROOT / \"data\").exists():\n",
    "    PROJECT_ROOT = PROJECT_ROOT.parent\n",
    "TRAIN_CSV_FILE = PROJECT_ROOT / \"data/csv_format/ner_sentences_train.csv\"\n",
    "TEST_CSV_FILE  = PROJECT_ROOT / \"data/csv_format/ner_sentences_test.csv\"\n"
   ]
  },
  {
   "cell_type": "markdown",
   "id": "cd013ebf",
   "metadata": {},
   "source": [
    "Load datasets from .csv file"
   ]
  },
  {
   "cell_type": "code",
   "execution_count": 6,
   "id": "012625b3",
   "metadata": {},
   "outputs": [
    {
     "name": "stdout",
     "output_type": "stream",
     "text": [
      "Labels:  ['O', 'B-morphologie', 'I-morphologie', 'B-topographie', 'I-topographie', 'B-differenciation', 'I-differenciation', 'B-stade', 'I-stade']\n"
     ]
    }
   ],
   "source": [
    "# Load datasets from CSV\n",
    "train_dataset = dataset_generator(TRAIN_CSV_FILE)\n",
    "test_dataset = dataset_generator(TEST_CSV_FILE)\n",
    "\n",
    "# Remove columns that are not needed for training\n",
    "cols_to_remove = train_dataset[\"train\"].column_names  # e.g., ['words','tags',...]\n",
    "\n",
    "label_list = train_dataset[\"train\"].features[f\"tags\"].feature.names\n",
    "print(\"Labels: \", label_list)\n",
    "label2id = {label: id for id, label in enumerate(label_list)}\n",
    "id2label = {id: label for label, id in label2id.items()}"
   ]
  },
  {
   "cell_type": "markdown",
   "id": "fb2f6bf1",
   "metadata": {},
   "source": [
    "Define tokenizer and model (and arguments??)\n",
    "\n",
    "* 'model_name': huggingface model name. Has been tested with: camembert-base, almanach/camembert-bio-base, flaubert/flaubert_base_cased and bert-base-multilingual-cased."
   ]
  },
  {
   "cell_type": "code",
   "execution_count": 17,
   "id": "5c18bddb",
   "metadata": {},
   "outputs": [
    {
     "data": {
      "application/vnd.jupyter.widget-view+json": {
       "model_id": "f68f1d8b44b14071960593a8b60ca62a",
       "version_major": 2,
       "version_minor": 0
      },
      "text/plain": [
       "Dropdown(description='Model:', options=('almanach/camembert-bio-base', 'camembert-base', 'flaubert/flaubert_ba…"
      ]
     },
     "metadata": {},
     "output_type": "display_data"
    },
    {
     "data": {
      "application/vnd.jupyter.widget-view+json": {
       "model_id": "ea48c20ff78e481b95c1e6e8b2d833d3",
       "version_major": 2,
       "version_minor": 0
      },
      "text/plain": [
       "IntSlider(value=5, description='Epochs:', max=16, min=1)"
      ]
     },
     "metadata": {},
     "output_type": "display_data"
    },
    {
     "data": {
      "application/vnd.jupyter.widget-view+json": {
       "model_id": "372021d99a704a0699000c3e14284c8b",
       "version_major": 2,
       "version_minor": 0
      },
      "text/plain": [
       "IntSlider(value=4, description='Batch Size:', max=32, min=1)"
      ]
     },
     "metadata": {},
     "output_type": "display_data"
    },
    {
     "data": {
      "application/vnd.jupyter.widget-view+json": {
       "model_id": "cbf2a8bbb88f4a5eb69e5bf7e273cc5d",
       "version_major": 2,
       "version_minor": 0
      },
      "text/plain": [
       "FloatLogSlider(value=5e-05, description='LR:', max=-2.0, min=-6.0, readout_format='.1e')"
      ]
     },
     "metadata": {},
     "output_type": "display_data"
    },
    {
     "name": "stdout",
     "output_type": "stream",
     "text": [
      "Namespace(model_name='almanach/camembert-bio-base', num_train_epochs=5, per_device_train_batch_size=4, per_device_eval_batch_size=4, gradient_accumulation_steps=2, learning_rate=5e-05, remove_unused_columns=True, seed=42, logging_dir='logs', logging_steps=100, report_to=['tensorboard'], load_best_model_at_end=True, save_total_limit=2, metric_for_best_model='f1', greater_is_better=True, eval_strategy='epoch', save_strategy='epoch')\n"
     ]
    }
   ],
   "source": [
    "# model options\n",
    "model_options = [\n",
    "    \"almanach/camembert-bio-base\",\n",
    "    \"camembert-base\",\n",
    "    \"flaubert/flaubert_base_cased\",\n",
    "    # \"Dr-BERT/DrBERT-7GB\",\n",
    "    \"bert-base-multilingual-cased\", \n",
    "    \"cservan/french-albert-base-cased\"\n",
    "]\n",
    "\n",
    "# model default hyperparameters\n",
    "model_args_dict = {\n",
    "    \"model_name\":\"almanach/camembert-bio-base\",\n",
    "    \"num_train_epochs\": 5,\n",
    "    \"per_device_train_batch_size\": 4,\n",
    "    \"per_device_eval_batch_size\": 4,\n",
    "    \"gradient_accumulation_steps\":2, \n",
    "    \"learning_rate\": 5e-5,\n",
    "    \"remove_unused_columns\": True,\n",
    "    \"seed\": 42,\n",
    "    \"logging_dir\": \"logs\",\n",
    "    \"logging_steps\": 100,           # log every N steps\n",
    "    \"report_to\": [\"tensorboard\"],  # log to TensorBoard\n",
    "    \"load_best_model_at_end\": True,\n",
    "    \"save_total_limit\": 2,  # keep only the last 2 checkpoints\n",
    "    \"metric_for_best_model\": \"f1\",\n",
    "    \"greater_is_better\": True,  # for f1, higher is better\n",
    "    \"eval_strategy\": \"epoch\",            # evaluate each epoch\n",
    "    \"save_strategy\": \"epoch\",          # checkpoint each epoch\n",
    "}\n",
    "\n",
    "model_args = Namespace(**model_args_dict)\n",
    "\n",
    "model_name_widget = widgets.Dropdown(\n",
    "    options=model_options,\n",
    "    value=model_args.model_name,\n",
    "    description='Model:',\n",
    ")\n",
    "num_epochs_widget = widgets.IntSlider(value=model_args.num_train_epochs, min=1, max=16, description='Epochs:')\n",
    "train_batch_size_widget = widgets.IntSlider(value=model_args.per_device_train_batch_size, min=1, max=32, description='Batch Size:')\n",
    "lr_widget = widgets.FloatLogSlider(value=model_args.learning_rate, base=10, min=-6, max=-2, step=0.1, description='LR:', readout_format='.1e')\n",
    "\n",
    "display(model_name_widget, num_epochs_widget, train_batch_size_widget, lr_widget)\n",
    "\n",
    "# Sync function to update Namespace\n",
    "def update_args(*_):\n",
    "    model_args.model_name = model_name_widget.value\n",
    "    model_args.num_train_epochs = num_epochs_widget.value\n",
    "    model_args.per_device_train_batch_size = train_batch_size_widget.value\n",
    "    model_args.learning_rate = lr_widget.value\n",
    "\n",
    "for w in [model_name_widget, num_epochs_widget, train_batch_size_widget, lr_widget]:\n",
    "    w.observe(update_args, names='value')\n",
    "\n",
    "update_args()  # sync initially\n",
    "print(model_args)\n",
    "\n"
   ]
  },
  {
   "cell_type": "markdown",
   "id": "30790ac6",
   "metadata": {},
   "source": [
    "Load tokenizer and model"
   ]
  },
  {
   "cell_type": "code",
   "execution_count": 18,
   "id": "1450b1b8",
   "metadata": {},
   "outputs": [
    {
     "name": "stderr",
     "output_type": "stream",
     "text": [
      "loading file sentencepiece.bpe.model from cache at /home/mv376/.cache/huggingface/hub/models--almanach--camembert-bio-base/snapshots/7a70e4b76571c8173b9416ba6d9e7ceba1c46ec3/sentencepiece.bpe.model\n",
      "loading file tokenizer.json from cache at /home/mv376/.cache/huggingface/hub/models--almanach--camembert-bio-base/snapshots/7a70e4b76571c8173b9416ba6d9e7ceba1c46ec3/tokenizer.json\n",
      "loading file added_tokens.json from cache at None\n",
      "loading file special_tokens_map.json from cache at /home/mv376/.cache/huggingface/hub/models--almanach--camembert-bio-base/snapshots/7a70e4b76571c8173b9416ba6d9e7ceba1c46ec3/special_tokens_map.json\n",
      "loading file tokenizer_config.json from cache at /home/mv376/.cache/huggingface/hub/models--almanach--camembert-bio-base/snapshots/7a70e4b76571c8173b9416ba6d9e7ceba1c46ec3/tokenizer_config.json\n",
      "loading file chat_template.jinja from cache at None\n",
      "loading configuration file config.json from cache at /home/mv376/.cache/huggingface/hub/models--almanach--camembert-bio-base/snapshots/7a70e4b76571c8173b9416ba6d9e7ceba1c46ec3/config.json\n",
      "Model config CamembertConfig {\n",
      "  \"architectures\": [\n",
      "    \"CamembertForMaskedLM\"\n",
      "  ],\n",
      "  \"attention_probs_dropout_prob\": 0.1,\n",
      "  \"bos_token_id\": 5,\n",
      "  \"classifier_dropout\": null,\n",
      "  \"eos_token_id\": 6,\n",
      "  \"hidden_act\": \"gelu\",\n",
      "  \"hidden_dropout_prob\": 0.1,\n",
      "  \"hidden_size\": 768,\n",
      "  \"id2label\": {\n",
      "    \"0\": \"O\",\n",
      "    \"1\": \"B-morphologie\",\n",
      "    \"2\": \"I-morphologie\",\n",
      "    \"3\": \"B-topographie\",\n",
      "    \"4\": \"I-topographie\",\n",
      "    \"5\": \"B-differenciation\",\n",
      "    \"6\": \"I-differenciation\",\n",
      "    \"7\": \"B-stade\",\n",
      "    \"8\": \"I-stade\"\n",
      "  },\n",
      "  \"initializer_range\": 0.02,\n",
      "  \"intermediate_size\": 3072,\n",
      "  \"label2id\": {\n",
      "    \"B-differenciation\": 5,\n",
      "    \"B-morphologie\": 1,\n",
      "    \"B-stade\": 7,\n",
      "    \"B-topographie\": 3,\n",
      "    \"I-differenciation\": 6,\n",
      "    \"I-morphologie\": 2,\n",
      "    \"I-stade\": 8,\n",
      "    \"I-topographie\": 4,\n",
      "    \"O\": 0\n",
      "  },\n",
      "  \"layer_norm_eps\": 1e-05,\n",
      "  \"max_position_embeddings\": 514,\n",
      "  \"model_type\": \"camembert\",\n",
      "  \"num_attention_heads\": 12,\n",
      "  \"num_hidden_layers\": 12,\n",
      "  \"output_past\": true,\n",
      "  \"pad_token_id\": 1,\n",
      "  \"position_embedding_type\": \"absolute\",\n",
      "  \"torch_dtype\": \"float32\",\n",
      "  \"transformers_version\": \"4.55.0\",\n",
      "  \"type_vocab_size\": 1,\n",
      "  \"use_cache\": true,\n",
      "  \"vocab_size\": 32005\n",
      "}\n",
      "\n",
      "loading weights file model.safetensors from cache at /home/mv376/.cache/huggingface/hub/models--almanach--camembert-bio-base/snapshots/7a70e4b76571c8173b9416ba6d9e7ceba1c46ec3/model.safetensors\n",
      "Some weights of the model checkpoint at almanach/camembert-bio-base were not used when initializing CamembertForTokenClassification: ['lm_head.bias', 'lm_head.dense.bias', 'lm_head.dense.weight', 'lm_head.layer_norm.bias', 'lm_head.layer_norm.weight']\n",
      "- This IS expected if you are initializing CamembertForTokenClassification from the checkpoint of a model trained on another task or with another architecture (e.g. initializing a BertForSequenceClassification model from a BertForPreTraining model).\n",
      "- This IS NOT expected if you are initializing CamembertForTokenClassification from the checkpoint of a model that you expect to be exactly identical (initializing a BertForSequenceClassification model from a BertForSequenceClassification model).\n",
      "Some weights of CamembertForTokenClassification were not initialized from the model checkpoint at almanach/camembert-bio-base and are newly initialized: ['classifier.bias', 'classifier.weight']\n",
      "You should probably TRAIN this model on a down-stream task to be able to use it for predictions and inference.\n"
     ]
    }
   ],
   "source": [
    "logging.set_verbosity_info()\n",
    "\n",
    "tokenizer = AutoTokenizer.from_pretrained(model_args.model_name, use_fast=True)\n",
    "model = AutoModelForTokenClassification.from_pretrained(model_args.model_name, num_labels=9, id2label=id2label, label2id=label2id)\n",
    "data_collator = DataCollatorForTokenClassification(tokenizer=tokenizer) "
   ]
  },
  {
   "cell_type": "markdown",
   "id": "cb94bfa2",
   "metadata": {},
   "source": [
    "Tokenize datasets"
   ]
  },
  {
   "cell_type": "code",
   "execution_count": 19,
   "id": "76c76701",
   "metadata": {},
   "outputs": [],
   "source": [
    "\n",
    "tokenize_fn = get_tokenize_and_align_labels_fn(\n",
    "    tokenizer=tokenizer,\n",
    "    label2id=None,          # skip mapping because labels are already integers\n",
    "    label_all_tokens=False\n",
    ")\n",
    "\n",
    "tokenized_train_dataset = train_dataset.map(tokenize_fn, batched=True, remove_columns=cols_to_remove) \n",
    "tokenized_test_dataset = test_dataset.map(tokenize_fn, batched=True, remove_columns=cols_to_remove) \n",
    "split_train_dataset = tokenized_train_dataset[\"train\"].train_test_split(test_size=0.1) # Split train dataset into train and validation sets "
   ]
  },
  {
   "cell_type": "markdown",
   "id": "acda4d5b",
   "metadata": {},
   "source": [
    "Define output and model location"
   ]
  },
  {
   "cell_type": "code",
   "execution_count": 20,
   "id": "96ada9f6",
   "metadata": {},
   "outputs": [],
   "source": [
    "MODEL_NAME_MAP = {\n",
    "    \"almanach/camembert-bio-base\": \"camembert-bio\",\n",
    "    \"camembert-base\": \"camembert-base\",\n",
    "    \"flaubert/flaubert_base_cased\": \"flaubert-base\",\n",
    "    \"bert-base-multilingual-cased\": \"bert-base-multilingual\",\n",
    "    \"cservan/french-albert-base-cased\": \"fr-albert\"\n",
    "}\n",
    "dir_model_name = MODEL_NAME_MAP[model_args.model_name]\n",
    "\n",
    "OUTPUT_DIR_HPO = PROJECT_ROOT / \"runs/hpo\" / f\"{dir_model_name}_{datetime.now().strftime('%Y-%m-%d_%H-%M')}\"\n",
    "OUTPUT_DIR_FINAL = PROJECT_ROOT / \"runs/final_best\" / f\"{dir_model_name}_{datetime.now().strftime('%Y-%m-%d_%H-%M')}\"\n",
    "MODEL_SAVE_PATH = PROJECT_ROOT / \"models\" / dir_model_name\n",
    "\n",
    "OUTPUT_DIR_HPO.mkdir(parents=True, exist_ok=True)\n",
    "OUTPUT_DIR_FINAL.mkdir(parents=True, exist_ok=True)\n",
    "MODEL_SAVE_PATH.mkdir(parents=True, exist_ok=True)"
   ]
  },
  {
   "cell_type": "markdown",
   "id": "9f285137",
   "metadata": {},
   "source": [
    "Train model"
   ]
  },
  {
   "cell_type": "code",
   "execution_count": 21,
   "id": "35cc45df",
   "metadata": {},
   "outputs": [],
   "source": [
    "\n",
    "model_init = partial(\n",
    "    build_token_cls,\n",
    "    model_args.model_name,\n",
    "    len(label_list),\n",
    "    id2label,\n",
    "    label2id\n",
    ")\n",
    "\n",
    "# training_args = TrainingArguments(\n",
    "#     output_dir = OUTPUT_DIR,\n",
    "#     num_train_epochs=model_args.num_train_epochs,\n",
    "#     per_device_train_batch_size=model_args.per_device_train_batch_size,\n",
    "#     per_device_eval_batch_size=model_args.per_device_eval_batch_size,\n",
    "#     learning_rate=model_args.learning_rate,\n",
    "#     remove_unused_columns=model_args.remove_unused_columns,\n",
    "#     seed=model_args.seed,\n",
    "#     logging_dir=model_args.logging_dir,\n",
    "#     logging_steps=model_args.logging_steps,           \n",
    "#     report_to=model_args.report_to,           \n",
    "#     load_best_model_at_end=model_args.load_best_model_at_end,\n",
    "#     save_total_limit=model_args.save_total_limit,      \n",
    "#     metric_for_best_model=model_args.metric_for_best_model,\n",
    "#     greater_is_better=model_args.greater_is_better, \n",
    "#     eval_strategy=model_args.eval_strategy,             \n",
    "#     save_strategy=model_args.save_strategy,             \n",
    "# )\n",
    "\n",
    "# trainer = Trainer(\n",
    "#     model_init=model_init,\n",
    "#     args=training_args,\n",
    "#     train_dataset=split_train_dataset[\"train\"], # train dataset\n",
    "#     eval_dataset=split_train_dataset[\"test\"], # validation dataset\n",
    "#     processing_class=tokenizer,\n",
    "#     data_collator=data_collator, \n",
    "#     compute_metrics=partial(compute_metrics, label_list=label_list),\n",
    "#     callbacks=[EarlyStoppingCallback(early_stopping_patience=2)]\n",
    "# )\n"
   ]
  },
  {
   "cell_type": "markdown",
   "id": "edc58987",
   "metadata": {},
   "source": [
    "Search for best hyperparameters"
   ]
  },
  {
   "cell_type": "code",
   "execution_count": null,
   "id": "0980d742",
   "metadata": {},
   "outputs": [
    {
     "name": "stderr",
     "output_type": "stream",
     "text": [
      "PyTorch: setting up devices\n",
      "average_tokens_across_devices is True but world size is 1. Setting it to False automatically.\n",
      "/tmp/ipykernel_523701/3231485308.py:11: FutureWarning: `tokenizer` is deprecated and will be removed in version 5.0.0 for `Trainer.__init__`. Use `processing_class` instead.\n",
      "  hpo_trainer = Trainer(\n",
      "loading configuration file config.json from cache at /home/mv376/.cache/huggingface/hub/models--almanach--camembert-bio-base/snapshots/7a70e4b76571c8173b9416ba6d9e7ceba1c46ec3/config.json\n",
      "Model config CamembertConfig {\n",
      "  \"architectures\": [\n",
      "    \"CamembertForMaskedLM\"\n",
      "  ],\n",
      "  \"attention_probs_dropout_prob\": 0.1,\n",
      "  \"bos_token_id\": 5,\n",
      "  \"classifier_dropout\": null,\n",
      "  \"eos_token_id\": 6,\n",
      "  \"hidden_act\": \"gelu\",\n",
      "  \"hidden_dropout_prob\": 0.1,\n",
      "  \"hidden_size\": 768,\n",
      "  \"id2label\": {\n",
      "    \"0\": \"O\",\n",
      "    \"1\": \"B-morphologie\",\n",
      "    \"2\": \"I-morphologie\",\n",
      "    \"3\": \"B-topographie\",\n",
      "    \"4\": \"I-topographie\",\n",
      "    \"5\": \"B-differenciation\",\n",
      "    \"6\": \"I-differenciation\",\n",
      "    \"7\": \"B-stade\",\n",
      "    \"8\": \"I-stade\"\n",
      "  },\n",
      "  \"initializer_range\": 0.02,\n",
      "  \"intermediate_size\": 3072,\n",
      "  \"label2id\": {\n",
      "    \"B-differenciation\": 5,\n",
      "    \"B-morphologie\": 1,\n",
      "    \"B-stade\": 7,\n",
      "    \"B-topographie\": 3,\n",
      "    \"I-differenciation\": 6,\n",
      "    \"I-morphologie\": 2,\n",
      "    \"I-stade\": 8,\n",
      "    \"I-topographie\": 4,\n",
      "    \"O\": 0\n",
      "  },\n",
      "  \"layer_norm_eps\": 1e-05,\n",
      "  \"max_position_embeddings\": 514,\n",
      "  \"model_type\": \"camembert\",\n",
      "  \"num_attention_heads\": 12,\n",
      "  \"num_hidden_layers\": 12,\n",
      "  \"output_past\": true,\n",
      "  \"pad_token_id\": 1,\n",
      "  \"position_embedding_type\": \"absolute\",\n",
      "  \"torch_dtype\": \"float32\",\n",
      "  \"transformers_version\": \"4.55.0\",\n",
      "  \"type_vocab_size\": 1,\n",
      "  \"use_cache\": true,\n",
      "  \"vocab_size\": 32005\n",
      "}\n",
      "\n",
      "loading weights file model.safetensors from cache at /home/mv376/.cache/huggingface/hub/models--almanach--camembert-bio-base/snapshots/7a70e4b76571c8173b9416ba6d9e7ceba1c46ec3/model.safetensors\n",
      "Some weights of the model checkpoint at almanach/camembert-bio-base were not used when initializing CamembertForTokenClassification: ['lm_head.bias', 'lm_head.dense.bias', 'lm_head.dense.weight', 'lm_head.layer_norm.bias', 'lm_head.layer_norm.weight']\n",
      "- This IS expected if you are initializing CamembertForTokenClassification from the checkpoint of a model trained on another task or with another architecture (e.g. initializing a BertForSequenceClassification model from a BertForPreTraining model).\n",
      "- This IS NOT expected if you are initializing CamembertForTokenClassification from the checkpoint of a model that you expect to be exactly identical (initializing a BertForSequenceClassification model from a BertForSequenceClassification model).\n",
      "Some weights of CamembertForTokenClassification were not initialized from the model checkpoint at almanach/camembert-bio-base and are newly initialized: ['classifier.bias', 'classifier.weight']\n",
      "You should probably TRAIN this model on a down-stream task to be able to use it for predictions and inference.\n",
      "[I 2025-08-19 00:11:01,457] A new study created in memory with name: no-name-daa71590-3b30-4860-b33f-54a4f88c1a89\n",
      "Trial: {'learning_rate': 1.5278879739898444e-05, 'num_train_epochs': 5, 'weight_decay': 0.06183063984787183, 'warmup_ratio': 0.19962740954251568}\n",
      "loading configuration file config.json from cache at /home/mv376/.cache/huggingface/hub/models--almanach--camembert-bio-base/snapshots/7a70e4b76571c8173b9416ba6d9e7ceba1c46ec3/config.json\n",
      "Model config CamembertConfig {\n",
      "  \"architectures\": [\n",
      "    \"CamembertForMaskedLM\"\n",
      "  ],\n",
      "  \"attention_probs_dropout_prob\": 0.1,\n",
      "  \"bos_token_id\": 5,\n",
      "  \"classifier_dropout\": null,\n",
      "  \"eos_token_id\": 6,\n",
      "  \"hidden_act\": \"gelu\",\n",
      "  \"hidden_dropout_prob\": 0.1,\n",
      "  \"hidden_size\": 768,\n",
      "  \"id2label\": {\n",
      "    \"0\": \"O\",\n",
      "    \"1\": \"B-morphologie\",\n",
      "    \"2\": \"I-morphologie\",\n",
      "    \"3\": \"B-topographie\",\n",
      "    \"4\": \"I-topographie\",\n",
      "    \"5\": \"B-differenciation\",\n",
      "    \"6\": \"I-differenciation\",\n",
      "    \"7\": \"B-stade\",\n",
      "    \"8\": \"I-stade\"\n",
      "  },\n",
      "  \"initializer_range\": 0.02,\n",
      "  \"intermediate_size\": 3072,\n",
      "  \"label2id\": {\n",
      "    \"B-differenciation\": 5,\n",
      "    \"B-morphologie\": 1,\n",
      "    \"B-stade\": 7,\n",
      "    \"B-topographie\": 3,\n",
      "    \"I-differenciation\": 6,\n",
      "    \"I-morphologie\": 2,\n",
      "    \"I-stade\": 8,\n",
      "    \"I-topographie\": 4,\n",
      "    \"O\": 0\n",
      "  },\n",
      "  \"layer_norm_eps\": 1e-05,\n",
      "  \"max_position_embeddings\": 514,\n",
      "  \"model_type\": \"camembert\",\n",
      "  \"num_attention_heads\": 12,\n",
      "  \"num_hidden_layers\": 12,\n",
      "  \"output_past\": true,\n",
      "  \"pad_token_id\": 1,\n",
      "  \"position_embedding_type\": \"absolute\",\n",
      "  \"torch_dtype\": \"float32\",\n",
      "  \"transformers_version\": \"4.55.0\",\n",
      "  \"type_vocab_size\": 1,\n",
      "  \"use_cache\": true,\n",
      "  \"vocab_size\": 32005\n",
      "}\n",
      "\n",
      "loading weights file model.safetensors from cache at /home/mv376/.cache/huggingface/hub/models--almanach--camembert-bio-base/snapshots/7a70e4b76571c8173b9416ba6d9e7ceba1c46ec3/model.safetensors\n",
      "Some weights of the model checkpoint at almanach/camembert-bio-base were not used when initializing CamembertForTokenClassification: ['lm_head.bias', 'lm_head.dense.bias', 'lm_head.dense.weight', 'lm_head.layer_norm.bias', 'lm_head.layer_norm.weight']\n",
      "- This IS expected if you are initializing CamembertForTokenClassification from the checkpoint of a model trained on another task or with another architecture (e.g. initializing a BertForSequenceClassification model from a BertForPreTraining model).\n",
      "- This IS NOT expected if you are initializing CamembertForTokenClassification from the checkpoint of a model that you expect to be exactly identical (initializing a BertForSequenceClassification model from a BertForSequenceClassification model).\n",
      "Some weights of CamembertForTokenClassification were not initialized from the model checkpoint at almanach/camembert-bio-base and are newly initialized: ['classifier.bias', 'classifier.weight']\n",
      "You should probably TRAIN this model on a down-stream task to be able to use it for predictions and inference.\n",
      "***** Running training *****\n",
      "  Num examples = 19,503\n",
      "  Num Epochs = 5\n",
      "  Instantaneous batch size per device = 4\n",
      "  Total train batch size (w. parallel, distributed & accumulation) = 8\n",
      "  Gradient Accumulation steps = 2\n",
      "  Total optimization steps = 12,190\n",
      "  Number of trainable parameters = 110,038,281\n"
     ]
    },
    {
     "data": {
      "text/html": [
       "\n",
       "    <div>\n",
       "      \n",
       "      <progress value='2439' max='12190' style='width:300px; height:20px; vertical-align: middle;'></progress>\n",
       "      [ 2439/12190 11:42 < 46:51, 3.47 it/s, Epoch 1/5]\n",
       "    </div>\n",
       "    <table border=\"1\" class=\"dataframe\">\n",
       "  <thead>\n",
       " <tr style=\"text-align: left;\">\n",
       "      <th>Epoch</th>\n",
       "      <th>Training Loss</th>\n",
       "      <th>Validation Loss</th>\n",
       "      <th>F1</th>\n",
       "      <th>Precision</th>\n",
       "      <th>Recall</th>\n",
       "      <th>Accuracy</th>\n",
       "      <th>F1/differenciation</th>\n",
       "      <th>Precision/differenciation</th>\n",
       "      <th>Recall/differenciation</th>\n",
       "      <th>Support/differenciation</th>\n",
       "      <th>F1/morphologie</th>\n",
       "      <th>Precision/morphologie</th>\n",
       "      <th>Recall/morphologie</th>\n",
       "      <th>Support/morphologie</th>\n",
       "      <th>F1/stade</th>\n",
       "      <th>Precision/stade</th>\n",
       "      <th>Recall/stade</th>\n",
       "      <th>Support/stade</th>\n",
       "      <th>F1/topographie</th>\n",
       "      <th>Precision/topographie</th>\n",
       "      <th>Recall/topographie</th>\n",
       "      <th>Support/topographie</th>\n",
       "    </tr>\n",
       "  </thead>\n",
       "  <tbody>\n",
       "    <tr>\n",
       "      <td>1</td>\n",
       "      <td>0.206900</td>\n",
       "      <td>0.106852</td>\n",
       "      <td>0.710506</td>\n",
       "      <td>0.685672</td>\n",
       "      <td>0.737207</td>\n",
       "      <td>0.978366</td>\n",
       "      <td>0.000000</td>\n",
       "      <td>0.000000</td>\n",
       "      <td>0.000000</td>\n",
       "      <td>51</td>\n",
       "      <td>0.791176</td>\n",
       "      <td>0.774472</td>\n",
       "      <td>0.808617</td>\n",
       "      <td>998</td>\n",
       "      <td>0.537931</td>\n",
       "      <td>0.527027</td>\n",
       "      <td>0.549296</td>\n",
       "      <td>71</td>\n",
       "      <td>0.654878</td>\n",
       "      <td>0.607466</td>\n",
       "      <td>0.710317</td>\n",
       "      <td>756</td>\n",
       "    </tr>\n",
       "  </tbody>\n",
       "</table><p>"
      ],
      "text/plain": [
       "<IPython.core.display.HTML object>"
      ]
     },
     "metadata": {},
     "output_type": "display_data"
    },
    {
     "name": "stderr",
     "output_type": "stream",
     "text": [
      "\n",
      "***** Running Evaluation *****\n",
      "  Num examples = 2167\n",
      "  Batch size = 8\n",
      "[W 2025-08-19 00:23:01,451] Trial 0 failed with parameters: {'learning_rate': 1.5278879739898444e-05, 'num_train_epochs': 5, 'weight_decay': 0.06183063984787183, 'warmup_ratio': 0.19962740954251568} because of the following error: KeyError('eval_f1_topographie').\n",
      "Traceback (most recent call last):\n",
      "  File \"/home/mv376/miniconda3/envs/camembert/lib/python3.10/site-packages/optuna/study/_optimize.py\", line 201, in _run_trial\n",
      "    value_or_values = func(trial)\n",
      "  File \"/home/mv376/miniconda3/envs/camembert/lib/python3.10/site-packages/transformers/integrations/integration_utils.py\", line 274, in _objective\n",
      "    trainer.train(resume_from_checkpoint=checkpoint, trial=trial)\n",
      "  File \"/home/mv376/miniconda3/envs/camembert/lib/python3.10/site-packages/transformers/trainer.py\", line 2238, in train\n",
      "    return inner_training_loop(\n",
      "  File \"/home/mv376/miniconda3/envs/camembert/lib/python3.10/site-packages/transformers/trainer.py\", line 2698, in _inner_training_loop\n",
      "    self._maybe_log_save_evaluate(\n",
      "  File \"/home/mv376/miniconda3/envs/camembert/lib/python3.10/site-packages/transformers/trainer.py\", line 3137, in _maybe_log_save_evaluate\n",
      "    metrics = self._evaluate(trial, ignore_keys_for_eval)\n",
      "  File \"/home/mv376/miniconda3/envs/camembert/lib/python3.10/site-packages/transformers/trainer.py\", line 3087, in _evaluate\n",
      "    self._report_to_hp_search(trial, self.state.global_step, metrics)\n",
      "  File \"/home/mv376/miniconda3/envs/camembert/lib/python3.10/site-packages/transformers/trainer.py\", line 1871, in _report_to_hp_search\n",
      "    self.objective = self.compute_objective(metrics)\n",
      "  File \"/home/mv376/projects/CamemBERT-bio/utils.py\", line 252, in compute_objective\n",
      "    return (m[\"eval_f1_topographie\"] + m[\"eval_f1_morphologie\"] + m[\"eval_f1_stade\"]) / 3\n",
      "KeyError: 'eval_f1_topographie'\n",
      "[W 2025-08-19 00:23:01,452] Trial 0 failed with value None.\n"
     ]
    },
    {
     "ename": "KeyError",
     "evalue": "'eval_f1_topographie'",
     "output_type": "error",
     "traceback": [
      "\u001b[0;31m---------------------------------------------------------------------------\u001b[0m",
      "\u001b[0;31mKeyError\u001b[0m                                  Traceback (most recent call last)",
      "Cell \u001b[0;32mIn[22], line 21\u001b[0m\n\u001b[1;32m      1\u001b[0m hpo_args \u001b[38;5;241m=\u001b[39m TrainingArguments(\n\u001b[1;32m      2\u001b[0m     output_dir\u001b[38;5;241m=\u001b[39mOUTPUT_DIR_HPO, \n\u001b[1;32m      3\u001b[0m     eval_strategy\u001b[38;5;241m=\u001b[39mmodel_args\u001b[38;5;241m.\u001b[39meval_strategy,\n\u001b[0;32m   (...)\u001b[0m\n\u001b[1;32m      8\u001b[0m     seed\u001b[38;5;241m=\u001b[39m\u001b[38;5;241m42\u001b[39m, data_seed\u001b[38;5;241m=\u001b[39m\u001b[38;5;241m42\u001b[39m,   \u001b[38;5;66;03m# fix seed during HPO; vary seeds later\u001b[39;00m\n\u001b[1;32m      9\u001b[0m )\n\u001b[1;32m     11\u001b[0m hpo_trainer \u001b[38;5;241m=\u001b[39m Trainer(\n\u001b[1;32m     12\u001b[0m     args\u001b[38;5;241m=\u001b[39mhpo_args,\n\u001b[1;32m     13\u001b[0m     model_init\u001b[38;5;241m=\u001b[39mmodel_init,\n\u001b[0;32m   (...)\u001b[0m\n\u001b[1;32m     18\u001b[0m     compute_metrics\u001b[38;5;241m=\u001b[39mpartial(compute_metrics, label_list\u001b[38;5;241m=\u001b[39mlabel_list)  \u001b[38;5;66;03m# must return \"f1\", \"precision\", \"recall\", etc.\u001b[39;00m\n\u001b[1;32m     19\u001b[0m )\n\u001b[0;32m---> 21\u001b[0m best_run \u001b[38;5;241m=\u001b[39m \u001b[43mhpo_trainer\u001b[49m\u001b[38;5;241;43m.\u001b[39;49m\u001b[43mhyperparameter_search\u001b[49m\u001b[43m(\u001b[49m\n\u001b[1;32m     22\u001b[0m \u001b[43m    \u001b[49m\u001b[43mdirection\u001b[49m\u001b[38;5;241;43m=\u001b[39;49m\u001b[38;5;124;43m\"\u001b[39;49m\u001b[38;5;124;43mmaximize\u001b[39;49m\u001b[38;5;124;43m\"\u001b[39;49m\u001b[43m,\u001b[49m\n\u001b[1;32m     23\u001b[0m \u001b[43m    \u001b[49m\u001b[43mhp_space\u001b[49m\u001b[38;5;241;43m=\u001b[39;49m\u001b[43mhp_space\u001b[49m\u001b[43m,\u001b[49m\n\u001b[1;32m     24\u001b[0m \u001b[43m    \u001b[49m\u001b[43mcompute_objective\u001b[49m\u001b[38;5;241;43m=\u001b[39;49m\u001b[43mcompute_objective\u001b[49m\u001b[43m,\u001b[49m\n\u001b[1;32m     25\u001b[0m \u001b[43m    \u001b[49m\u001b[43mn_trials\u001b[49m\u001b[38;5;241;43m=\u001b[39;49m\u001b[38;5;241;43m20\u001b[39;49m\u001b[43m,\u001b[49m\n\u001b[1;32m     26\u001b[0m \u001b[43m    \u001b[49m\u001b[43mbackend\u001b[49m\u001b[38;5;241;43m=\u001b[39;49m\u001b[38;5;124;43m\"\u001b[39;49m\u001b[38;5;124;43moptuna\u001b[39;49m\u001b[38;5;124;43m\"\u001b[39;49m\n\u001b[1;32m     27\u001b[0m \u001b[43m)\u001b[49m\n\u001b[1;32m     28\u001b[0m \u001b[38;5;28mprint\u001b[39m(\u001b[38;5;124m\"\u001b[39m\u001b[38;5;124mBest hyperparameters:\u001b[39m\u001b[38;5;124m\"\u001b[39m, best_run\u001b[38;5;241m.\u001b[39mhyperparameters)\n",
      "File \u001b[0;32m~/miniconda3/envs/camembert/lib/python3.10/site-packages/transformers/trainer.py:3674\u001b[0m, in \u001b[0;36mTrainer.hyperparameter_search\u001b[0;34m(self, hp_space, compute_objective, n_trials, direction, backend, hp_name, **kwargs)\u001b[0m\n\u001b[1;32m   3671\u001b[0m \u001b[38;5;28mself\u001b[39m\u001b[38;5;241m.\u001b[39mhp_name \u001b[38;5;241m=\u001b[39m hp_name\n\u001b[1;32m   3672\u001b[0m \u001b[38;5;28mself\u001b[39m\u001b[38;5;241m.\u001b[39mcompute_objective \u001b[38;5;241m=\u001b[39m default_compute_objective \u001b[38;5;28;01mif\u001b[39;00m compute_objective \u001b[38;5;129;01mis\u001b[39;00m \u001b[38;5;28;01mNone\u001b[39;00m \u001b[38;5;28;01melse\u001b[39;00m compute_objective\n\u001b[0;32m-> 3674\u001b[0m best_run \u001b[38;5;241m=\u001b[39m \u001b[43mbackend_obj\u001b[49m\u001b[38;5;241;43m.\u001b[39;49m\u001b[43mrun\u001b[49m\u001b[43m(\u001b[49m\u001b[38;5;28;43mself\u001b[39;49m\u001b[43m,\u001b[49m\u001b[43m \u001b[49m\u001b[43mn_trials\u001b[49m\u001b[43m,\u001b[49m\u001b[43m \u001b[49m\u001b[43mdirection\u001b[49m\u001b[43m,\u001b[49m\u001b[43m \u001b[49m\u001b[38;5;241;43m*\u001b[39;49m\u001b[38;5;241;43m*\u001b[39;49m\u001b[43mkwargs\u001b[49m\u001b[43m)\u001b[49m\n\u001b[1;32m   3676\u001b[0m \u001b[38;5;28mself\u001b[39m\u001b[38;5;241m.\u001b[39mhp_search_backend \u001b[38;5;241m=\u001b[39m \u001b[38;5;28;01mNone\u001b[39;00m\n\u001b[1;32m   3677\u001b[0m \u001b[38;5;28;01mreturn\u001b[39;00m best_run\n",
      "File \u001b[0;32m~/miniconda3/envs/camembert/lib/python3.10/site-packages/transformers/hyperparameter_search.py:72\u001b[0m, in \u001b[0;36mOptunaBackend.run\u001b[0;34m(self, trainer, n_trials, direction, **kwargs)\u001b[0m\n\u001b[1;32m     71\u001b[0m \u001b[38;5;28;01mdef\u001b[39;00m\u001b[38;5;250m \u001b[39m\u001b[38;5;21mrun\u001b[39m(\u001b[38;5;28mself\u001b[39m, trainer, n_trials: \u001b[38;5;28mint\u001b[39m, direction: \u001b[38;5;28mstr\u001b[39m, \u001b[38;5;241m*\u001b[39m\u001b[38;5;241m*\u001b[39mkwargs):\n\u001b[0;32m---> 72\u001b[0m     \u001b[38;5;28;01mreturn\u001b[39;00m \u001b[43mrun_hp_search_optuna\u001b[49m\u001b[43m(\u001b[49m\u001b[43mtrainer\u001b[49m\u001b[43m,\u001b[49m\u001b[43m \u001b[49m\u001b[43mn_trials\u001b[49m\u001b[43m,\u001b[49m\u001b[43m \u001b[49m\u001b[43mdirection\u001b[49m\u001b[43m,\u001b[49m\u001b[43m \u001b[49m\u001b[38;5;241;43m*\u001b[39;49m\u001b[38;5;241;43m*\u001b[39;49m\u001b[43mkwargs\u001b[49m\u001b[43m)\u001b[49m\n",
      "File \u001b[0;32m~/miniconda3/envs/camembert/lib/python3.10/site-packages/transformers/integrations/integration_utils.py:292\u001b[0m, in \u001b[0;36mrun_hp_search_optuna\u001b[0;34m(trainer, n_trials, direction, **kwargs)\u001b[0m\n\u001b[1;32m    290\u001b[0m direction \u001b[38;5;241m=\u001b[39m \u001b[38;5;28;01mNone\u001b[39;00m \u001b[38;5;28;01mif\u001b[39;00m directions \u001b[38;5;129;01mis\u001b[39;00m \u001b[38;5;129;01mnot\u001b[39;00m \u001b[38;5;28;01mNone\u001b[39;00m \u001b[38;5;28;01melse\u001b[39;00m direction\n\u001b[1;32m    291\u001b[0m study \u001b[38;5;241m=\u001b[39m optuna\u001b[38;5;241m.\u001b[39mcreate_study(direction\u001b[38;5;241m=\u001b[39mdirection, directions\u001b[38;5;241m=\u001b[39mdirections, \u001b[38;5;241m*\u001b[39m\u001b[38;5;241m*\u001b[39mkwargs)\n\u001b[0;32m--> 292\u001b[0m \u001b[43mstudy\u001b[49m\u001b[38;5;241;43m.\u001b[39;49m\u001b[43moptimize\u001b[49m\u001b[43m(\u001b[49m\u001b[43m_objective\u001b[49m\u001b[43m,\u001b[49m\u001b[43m \u001b[49m\u001b[43mn_trials\u001b[49m\u001b[38;5;241;43m=\u001b[39;49m\u001b[43mn_trials\u001b[49m\u001b[43m,\u001b[49m\u001b[43m \u001b[49m\u001b[43mtimeout\u001b[49m\u001b[38;5;241;43m=\u001b[39;49m\u001b[43mtimeout\u001b[49m\u001b[43m,\u001b[49m\u001b[43m \u001b[49m\u001b[43mn_jobs\u001b[49m\u001b[38;5;241;43m=\u001b[39;49m\u001b[43mn_jobs\u001b[49m\u001b[43m,\u001b[49m\u001b[43m \u001b[49m\u001b[43mgc_after_trial\u001b[49m\u001b[38;5;241;43m=\u001b[39;49m\u001b[43mgc_after_trial\u001b[49m\u001b[43m)\u001b[49m\n\u001b[1;32m    293\u001b[0m \u001b[38;5;28;01mif\u001b[39;00m \u001b[38;5;129;01mnot\u001b[39;00m study\u001b[38;5;241m.\u001b[39m_is_multi_objective():\n\u001b[1;32m    294\u001b[0m     best_trial \u001b[38;5;241m=\u001b[39m study\u001b[38;5;241m.\u001b[39mbest_trial\n",
      "File \u001b[0;32m~/miniconda3/envs/camembert/lib/python3.10/site-packages/optuna/study/study.py:489\u001b[0m, in \u001b[0;36mStudy.optimize\u001b[0;34m(self, func, n_trials, timeout, n_jobs, catch, callbacks, gc_after_trial, show_progress_bar)\u001b[0m\n\u001b[1;32m    387\u001b[0m \u001b[38;5;28;01mdef\u001b[39;00m\u001b[38;5;250m \u001b[39m\u001b[38;5;21moptimize\u001b[39m(\n\u001b[1;32m    388\u001b[0m     \u001b[38;5;28mself\u001b[39m,\n\u001b[1;32m    389\u001b[0m     func: ObjectiveFuncType,\n\u001b[0;32m   (...)\u001b[0m\n\u001b[1;32m    396\u001b[0m     show_progress_bar: \u001b[38;5;28mbool\u001b[39m \u001b[38;5;241m=\u001b[39m \u001b[38;5;28;01mFalse\u001b[39;00m,\n\u001b[1;32m    397\u001b[0m ) \u001b[38;5;241m-\u001b[39m\u001b[38;5;241m>\u001b[39m \u001b[38;5;28;01mNone\u001b[39;00m:\n\u001b[1;32m    398\u001b[0m \u001b[38;5;250m    \u001b[39m\u001b[38;5;124;03m\"\"\"Optimize an objective function.\u001b[39;00m\n\u001b[1;32m    399\u001b[0m \n\u001b[1;32m    400\u001b[0m \u001b[38;5;124;03m    Optimization is done by choosing a suitable set of hyperparameter values from a given\u001b[39;00m\n\u001b[0;32m   (...)\u001b[0m\n\u001b[1;32m    487\u001b[0m \u001b[38;5;124;03m            If nested invocation of this method occurs.\u001b[39;00m\n\u001b[1;32m    488\u001b[0m \u001b[38;5;124;03m    \"\"\"\u001b[39;00m\n\u001b[0;32m--> 489\u001b[0m     \u001b[43m_optimize\u001b[49m\u001b[43m(\u001b[49m\n\u001b[1;32m    490\u001b[0m \u001b[43m        \u001b[49m\u001b[43mstudy\u001b[49m\u001b[38;5;241;43m=\u001b[39;49m\u001b[38;5;28;43mself\u001b[39;49m\u001b[43m,\u001b[49m\n\u001b[1;32m    491\u001b[0m \u001b[43m        \u001b[49m\u001b[43mfunc\u001b[49m\u001b[38;5;241;43m=\u001b[39;49m\u001b[43mfunc\u001b[49m\u001b[43m,\u001b[49m\n\u001b[1;32m    492\u001b[0m \u001b[43m        \u001b[49m\u001b[43mn_trials\u001b[49m\u001b[38;5;241;43m=\u001b[39;49m\u001b[43mn_trials\u001b[49m\u001b[43m,\u001b[49m\n\u001b[1;32m    493\u001b[0m \u001b[43m        \u001b[49m\u001b[43mtimeout\u001b[49m\u001b[38;5;241;43m=\u001b[39;49m\u001b[43mtimeout\u001b[49m\u001b[43m,\u001b[49m\n\u001b[1;32m    494\u001b[0m \u001b[43m        \u001b[49m\u001b[43mn_jobs\u001b[49m\u001b[38;5;241;43m=\u001b[39;49m\u001b[43mn_jobs\u001b[49m\u001b[43m,\u001b[49m\n\u001b[1;32m    495\u001b[0m \u001b[43m        \u001b[49m\u001b[43mcatch\u001b[49m\u001b[38;5;241;43m=\u001b[39;49m\u001b[38;5;28;43mtuple\u001b[39;49m\u001b[43m(\u001b[49m\u001b[43mcatch\u001b[49m\u001b[43m)\u001b[49m\u001b[43m \u001b[49m\u001b[38;5;28;43;01mif\u001b[39;49;00m\u001b[43m \u001b[49m\u001b[38;5;28;43misinstance\u001b[39;49m\u001b[43m(\u001b[49m\u001b[43mcatch\u001b[49m\u001b[43m,\u001b[49m\u001b[43m \u001b[49m\u001b[43mIterable\u001b[49m\u001b[43m)\u001b[49m\u001b[43m \u001b[49m\u001b[38;5;28;43;01melse\u001b[39;49;00m\u001b[43m \u001b[49m\u001b[43m(\u001b[49m\u001b[43mcatch\u001b[49m\u001b[43m,\u001b[49m\u001b[43m)\u001b[49m\u001b[43m,\u001b[49m\n\u001b[1;32m    496\u001b[0m \u001b[43m        \u001b[49m\u001b[43mcallbacks\u001b[49m\u001b[38;5;241;43m=\u001b[39;49m\u001b[43mcallbacks\u001b[49m\u001b[43m,\u001b[49m\n\u001b[1;32m    497\u001b[0m \u001b[43m        \u001b[49m\u001b[43mgc_after_trial\u001b[49m\u001b[38;5;241;43m=\u001b[39;49m\u001b[43mgc_after_trial\u001b[49m\u001b[43m,\u001b[49m\n\u001b[1;32m    498\u001b[0m \u001b[43m        \u001b[49m\u001b[43mshow_progress_bar\u001b[49m\u001b[38;5;241;43m=\u001b[39;49m\u001b[43mshow_progress_bar\u001b[49m\u001b[43m,\u001b[49m\n\u001b[1;32m    499\u001b[0m \u001b[43m    \u001b[49m\u001b[43m)\u001b[49m\n",
      "File \u001b[0;32m~/miniconda3/envs/camembert/lib/python3.10/site-packages/optuna/study/_optimize.py:64\u001b[0m, in \u001b[0;36m_optimize\u001b[0;34m(study, func, n_trials, timeout, n_jobs, catch, callbacks, gc_after_trial, show_progress_bar)\u001b[0m\n\u001b[1;32m     62\u001b[0m \u001b[38;5;28;01mtry\u001b[39;00m:\n\u001b[1;32m     63\u001b[0m     \u001b[38;5;28;01mif\u001b[39;00m n_jobs \u001b[38;5;241m==\u001b[39m \u001b[38;5;241m1\u001b[39m:\n\u001b[0;32m---> 64\u001b[0m         \u001b[43m_optimize_sequential\u001b[49m\u001b[43m(\u001b[49m\n\u001b[1;32m     65\u001b[0m \u001b[43m            \u001b[49m\u001b[43mstudy\u001b[49m\u001b[43m,\u001b[49m\n\u001b[1;32m     66\u001b[0m \u001b[43m            \u001b[49m\u001b[43mfunc\u001b[49m\u001b[43m,\u001b[49m\n\u001b[1;32m     67\u001b[0m \u001b[43m            \u001b[49m\u001b[43mn_trials\u001b[49m\u001b[43m,\u001b[49m\n\u001b[1;32m     68\u001b[0m \u001b[43m            \u001b[49m\u001b[43mtimeout\u001b[49m\u001b[43m,\u001b[49m\n\u001b[1;32m     69\u001b[0m \u001b[43m            \u001b[49m\u001b[43mcatch\u001b[49m\u001b[43m,\u001b[49m\n\u001b[1;32m     70\u001b[0m \u001b[43m            \u001b[49m\u001b[43mcallbacks\u001b[49m\u001b[43m,\u001b[49m\n\u001b[1;32m     71\u001b[0m \u001b[43m            \u001b[49m\u001b[43mgc_after_trial\u001b[49m\u001b[43m,\u001b[49m\n\u001b[1;32m     72\u001b[0m \u001b[43m            \u001b[49m\u001b[43mreseed_sampler_rng\u001b[49m\u001b[38;5;241;43m=\u001b[39;49m\u001b[38;5;28;43;01mFalse\u001b[39;49;00m\u001b[43m,\u001b[49m\n\u001b[1;32m     73\u001b[0m \u001b[43m            \u001b[49m\u001b[43mtime_start\u001b[49m\u001b[38;5;241;43m=\u001b[39;49m\u001b[38;5;28;43;01mNone\u001b[39;49;00m\u001b[43m,\u001b[49m\n\u001b[1;32m     74\u001b[0m \u001b[43m            \u001b[49m\u001b[43mprogress_bar\u001b[49m\u001b[38;5;241;43m=\u001b[39;49m\u001b[43mprogress_bar\u001b[49m\u001b[43m,\u001b[49m\n\u001b[1;32m     75\u001b[0m \u001b[43m        \u001b[49m\u001b[43m)\u001b[49m\n\u001b[1;32m     76\u001b[0m     \u001b[38;5;28;01melse\u001b[39;00m:\n\u001b[1;32m     77\u001b[0m         \u001b[38;5;28;01mif\u001b[39;00m n_jobs \u001b[38;5;241m==\u001b[39m \u001b[38;5;241m-\u001b[39m\u001b[38;5;241m1\u001b[39m:\n",
      "File \u001b[0;32m~/miniconda3/envs/camembert/lib/python3.10/site-packages/optuna/study/_optimize.py:161\u001b[0m, in \u001b[0;36m_optimize_sequential\u001b[0;34m(study, func, n_trials, timeout, catch, callbacks, gc_after_trial, reseed_sampler_rng, time_start, progress_bar)\u001b[0m\n\u001b[1;32m    158\u001b[0m         \u001b[38;5;28;01mbreak\u001b[39;00m\n\u001b[1;32m    160\u001b[0m \u001b[38;5;28;01mtry\u001b[39;00m:\n\u001b[0;32m--> 161\u001b[0m     frozen_trial \u001b[38;5;241m=\u001b[39m \u001b[43m_run_trial\u001b[49m\u001b[43m(\u001b[49m\u001b[43mstudy\u001b[49m\u001b[43m,\u001b[49m\u001b[43m \u001b[49m\u001b[43mfunc\u001b[49m\u001b[43m,\u001b[49m\u001b[43m \u001b[49m\u001b[43mcatch\u001b[49m\u001b[43m)\u001b[49m\n\u001b[1;32m    162\u001b[0m \u001b[38;5;28;01mfinally\u001b[39;00m:\n\u001b[1;32m    163\u001b[0m     \u001b[38;5;66;03m# The following line mitigates memory problems that can be occurred in some\u001b[39;00m\n\u001b[1;32m    164\u001b[0m     \u001b[38;5;66;03m# environments (e.g., services that use computing containers such as GitHub Actions).\u001b[39;00m\n\u001b[1;32m    165\u001b[0m     \u001b[38;5;66;03m# Please refer to the following PR for further details:\u001b[39;00m\n\u001b[1;32m    166\u001b[0m     \u001b[38;5;66;03m# https://github.com/optuna/optuna/pull/325.\u001b[39;00m\n\u001b[1;32m    167\u001b[0m     \u001b[38;5;28;01mif\u001b[39;00m gc_after_trial:\n",
      "File \u001b[0;32m~/miniconda3/envs/camembert/lib/python3.10/site-packages/optuna/study/_optimize.py:253\u001b[0m, in \u001b[0;36m_run_trial\u001b[0;34m(study, func, catch)\u001b[0m\n\u001b[1;32m    246\u001b[0m         \u001b[38;5;28;01massert\u001b[39;00m \u001b[38;5;28;01mFalse\u001b[39;00m, \u001b[38;5;124m\"\u001b[39m\u001b[38;5;124mShould not reach.\u001b[39m\u001b[38;5;124m\"\u001b[39m\n\u001b[1;32m    248\u001b[0m \u001b[38;5;28;01mif\u001b[39;00m (\n\u001b[1;32m    249\u001b[0m     frozen_trial\u001b[38;5;241m.\u001b[39mstate \u001b[38;5;241m==\u001b[39m TrialState\u001b[38;5;241m.\u001b[39mFAIL\n\u001b[1;32m    250\u001b[0m     \u001b[38;5;129;01mand\u001b[39;00m func_err \u001b[38;5;129;01mis\u001b[39;00m \u001b[38;5;129;01mnot\u001b[39;00m \u001b[38;5;28;01mNone\u001b[39;00m\n\u001b[1;32m    251\u001b[0m     \u001b[38;5;129;01mand\u001b[39;00m \u001b[38;5;129;01mnot\u001b[39;00m \u001b[38;5;28misinstance\u001b[39m(func_err, catch)\n\u001b[1;32m    252\u001b[0m ):\n\u001b[0;32m--> 253\u001b[0m     \u001b[38;5;28;01mraise\u001b[39;00m func_err\n\u001b[1;32m    254\u001b[0m \u001b[38;5;28;01mreturn\u001b[39;00m frozen_trial\n",
      "File \u001b[0;32m~/miniconda3/envs/camembert/lib/python3.10/site-packages/optuna/study/_optimize.py:201\u001b[0m, in \u001b[0;36m_run_trial\u001b[0;34m(study, func, catch)\u001b[0m\n\u001b[1;32m    199\u001b[0m \u001b[38;5;28;01mwith\u001b[39;00m get_heartbeat_thread(trial\u001b[38;5;241m.\u001b[39m_trial_id, study\u001b[38;5;241m.\u001b[39m_storage):\n\u001b[1;32m    200\u001b[0m     \u001b[38;5;28;01mtry\u001b[39;00m:\n\u001b[0;32m--> 201\u001b[0m         value_or_values \u001b[38;5;241m=\u001b[39m \u001b[43mfunc\u001b[49m\u001b[43m(\u001b[49m\u001b[43mtrial\u001b[49m\u001b[43m)\u001b[49m\n\u001b[1;32m    202\u001b[0m     \u001b[38;5;28;01mexcept\u001b[39;00m exceptions\u001b[38;5;241m.\u001b[39mTrialPruned \u001b[38;5;28;01mas\u001b[39;00m e:\n\u001b[1;32m    203\u001b[0m         \u001b[38;5;66;03m# TODO(mamu): Handle multi-objective cases.\u001b[39;00m\n\u001b[1;32m    204\u001b[0m         state \u001b[38;5;241m=\u001b[39m TrialState\u001b[38;5;241m.\u001b[39mPRUNED\n",
      "File \u001b[0;32m~/miniconda3/envs/camembert/lib/python3.10/site-packages/transformers/integrations/integration_utils.py:274\u001b[0m, in \u001b[0;36mrun_hp_search_optuna.<locals>._objective\u001b[0;34m(trial, checkpoint_dir)\u001b[0m\n\u001b[1;32m    272\u001b[0m     trainer\u001b[38;5;241m.\u001b[39mtrain(resume_from_checkpoint\u001b[38;5;241m=\u001b[39mcheckpoint, trial\u001b[38;5;241m=\u001b[39mtrial)\n\u001b[1;32m    273\u001b[0m \u001b[38;5;28;01melse\u001b[39;00m:\n\u001b[0;32m--> 274\u001b[0m     \u001b[43mtrainer\u001b[49m\u001b[38;5;241;43m.\u001b[39;49m\u001b[43mtrain\u001b[49m\u001b[43m(\u001b[49m\u001b[43mresume_from_checkpoint\u001b[49m\u001b[38;5;241;43m=\u001b[39;49m\u001b[43mcheckpoint\u001b[49m\u001b[43m,\u001b[49m\u001b[43m \u001b[49m\u001b[43mtrial\u001b[49m\u001b[38;5;241;43m=\u001b[39;49m\u001b[43mtrial\u001b[49m\u001b[43m)\u001b[49m\n\u001b[1;32m    275\u001b[0m \u001b[38;5;66;03m# If there hasn't been any evaluation during the training loop.\u001b[39;00m\n\u001b[1;32m    276\u001b[0m \u001b[38;5;28;01mif\u001b[39;00m \u001b[38;5;28mgetattr\u001b[39m(trainer, \u001b[38;5;124m\"\u001b[39m\u001b[38;5;124mobjective\u001b[39m\u001b[38;5;124m\"\u001b[39m, \u001b[38;5;28;01mNone\u001b[39;00m) \u001b[38;5;129;01mis\u001b[39;00m \u001b[38;5;28;01mNone\u001b[39;00m:\n",
      "File \u001b[0;32m~/miniconda3/envs/camembert/lib/python3.10/site-packages/transformers/trainer.py:2238\u001b[0m, in \u001b[0;36mTrainer.train\u001b[0;34m(self, resume_from_checkpoint, trial, ignore_keys_for_eval, **kwargs)\u001b[0m\n\u001b[1;32m   2236\u001b[0m         hf_hub_utils\u001b[38;5;241m.\u001b[39menable_progress_bars()\n\u001b[1;32m   2237\u001b[0m \u001b[38;5;28;01melse\u001b[39;00m:\n\u001b[0;32m-> 2238\u001b[0m     \u001b[38;5;28;01mreturn\u001b[39;00m \u001b[43minner_training_loop\u001b[49m\u001b[43m(\u001b[49m\n\u001b[1;32m   2239\u001b[0m \u001b[43m        \u001b[49m\u001b[43margs\u001b[49m\u001b[38;5;241;43m=\u001b[39;49m\u001b[43margs\u001b[49m\u001b[43m,\u001b[49m\n\u001b[1;32m   2240\u001b[0m \u001b[43m        \u001b[49m\u001b[43mresume_from_checkpoint\u001b[49m\u001b[38;5;241;43m=\u001b[39;49m\u001b[43mresume_from_checkpoint\u001b[49m\u001b[43m,\u001b[49m\n\u001b[1;32m   2241\u001b[0m \u001b[43m        \u001b[49m\u001b[43mtrial\u001b[49m\u001b[38;5;241;43m=\u001b[39;49m\u001b[43mtrial\u001b[49m\u001b[43m,\u001b[49m\n\u001b[1;32m   2242\u001b[0m \u001b[43m        \u001b[49m\u001b[43mignore_keys_for_eval\u001b[49m\u001b[38;5;241;43m=\u001b[39;49m\u001b[43mignore_keys_for_eval\u001b[49m\u001b[43m,\u001b[49m\n\u001b[1;32m   2243\u001b[0m \u001b[43m    \u001b[49m\u001b[43m)\u001b[49m\n",
      "File \u001b[0;32m~/miniconda3/envs/camembert/lib/python3.10/site-packages/transformers/trainer.py:2698\u001b[0m, in \u001b[0;36mTrainer._inner_training_loop\u001b[0;34m(self, batch_size, args, resume_from_checkpoint, trial, ignore_keys_for_eval)\u001b[0m\n\u001b[1;32m   2695\u001b[0m     \u001b[38;5;28mself\u001b[39m\u001b[38;5;241m.\u001b[39mcontrol\u001b[38;5;241m.\u001b[39mshould_training_stop \u001b[38;5;241m=\u001b[39m \u001b[38;5;28;01mTrue\u001b[39;00m\n\u001b[1;32m   2697\u001b[0m \u001b[38;5;28mself\u001b[39m\u001b[38;5;241m.\u001b[39mcontrol \u001b[38;5;241m=\u001b[39m \u001b[38;5;28mself\u001b[39m\u001b[38;5;241m.\u001b[39mcallback_handler\u001b[38;5;241m.\u001b[39mon_epoch_end(args, \u001b[38;5;28mself\u001b[39m\u001b[38;5;241m.\u001b[39mstate, \u001b[38;5;28mself\u001b[39m\u001b[38;5;241m.\u001b[39mcontrol)\n\u001b[0;32m-> 2698\u001b[0m \u001b[38;5;28;43mself\u001b[39;49m\u001b[38;5;241;43m.\u001b[39;49m\u001b[43m_maybe_log_save_evaluate\u001b[49m\u001b[43m(\u001b[49m\n\u001b[1;32m   2699\u001b[0m \u001b[43m    \u001b[49m\u001b[43mtr_loss\u001b[49m\u001b[43m,\u001b[49m\u001b[43m \u001b[49m\u001b[43mgrad_norm\u001b[49m\u001b[43m,\u001b[49m\u001b[43m \u001b[49m\u001b[43mmodel\u001b[49m\u001b[43m,\u001b[49m\u001b[43m \u001b[49m\u001b[43mtrial\u001b[49m\u001b[43m,\u001b[49m\u001b[43m \u001b[49m\u001b[43mepoch\u001b[49m\u001b[43m,\u001b[49m\u001b[43m \u001b[49m\u001b[43mignore_keys_for_eval\u001b[49m\u001b[43m,\u001b[49m\u001b[43m \u001b[49m\u001b[43mstart_time\u001b[49m\u001b[43m,\u001b[49m\u001b[43m \u001b[49m\u001b[43mlearning_rate\u001b[49m\u001b[38;5;241;43m=\u001b[39;49m\u001b[43mlearning_rate\u001b[49m\n\u001b[1;32m   2700\u001b[0m \u001b[43m\u001b[49m\u001b[43m)\u001b[49m\n\u001b[1;32m   2702\u001b[0m \u001b[38;5;28;01mif\u001b[39;00m DebugOption\u001b[38;5;241m.\u001b[39mTPU_METRICS_DEBUG \u001b[38;5;129;01min\u001b[39;00m \u001b[38;5;28mself\u001b[39m\u001b[38;5;241m.\u001b[39margs\u001b[38;5;241m.\u001b[39mdebug:\n\u001b[1;32m   2703\u001b[0m     \u001b[38;5;28;01mif\u001b[39;00m is_torch_xla_available():\n\u001b[1;32m   2704\u001b[0m         \u001b[38;5;66;03m# tpu-comment: Logging debug metrics for PyTorch/XLA (compile, execute times, ops, etc.)\u001b[39;00m\n",
      "File \u001b[0;32m~/miniconda3/envs/camembert/lib/python3.10/site-packages/transformers/trainer.py:3137\u001b[0m, in \u001b[0;36mTrainer._maybe_log_save_evaluate\u001b[0;34m(self, tr_loss, grad_norm, model, trial, epoch, ignore_keys_for_eval, start_time, learning_rate)\u001b[0m\n\u001b[1;32m   3135\u001b[0m metrics \u001b[38;5;241m=\u001b[39m \u001b[38;5;28;01mNone\u001b[39;00m\n\u001b[1;32m   3136\u001b[0m \u001b[38;5;28;01mif\u001b[39;00m \u001b[38;5;28mself\u001b[39m\u001b[38;5;241m.\u001b[39mcontrol\u001b[38;5;241m.\u001b[39mshould_evaluate:\n\u001b[0;32m-> 3137\u001b[0m     metrics \u001b[38;5;241m=\u001b[39m \u001b[38;5;28;43mself\u001b[39;49m\u001b[38;5;241;43m.\u001b[39;49m\u001b[43m_evaluate\u001b[49m\u001b[43m(\u001b[49m\u001b[43mtrial\u001b[49m\u001b[43m,\u001b[49m\u001b[43m \u001b[49m\u001b[43mignore_keys_for_eval\u001b[49m\u001b[43m)\u001b[49m\n\u001b[1;32m   3138\u001b[0m     is_new_best_metric \u001b[38;5;241m=\u001b[39m \u001b[38;5;28mself\u001b[39m\u001b[38;5;241m.\u001b[39m_determine_best_metric(metrics\u001b[38;5;241m=\u001b[39mmetrics, trial\u001b[38;5;241m=\u001b[39mtrial)\n\u001b[1;32m   3140\u001b[0m     \u001b[38;5;28;01mif\u001b[39;00m \u001b[38;5;28mself\u001b[39m\u001b[38;5;241m.\u001b[39margs\u001b[38;5;241m.\u001b[39msave_strategy \u001b[38;5;241m==\u001b[39m SaveStrategy\u001b[38;5;241m.\u001b[39mBEST:\n",
      "File \u001b[0;32m~/miniconda3/envs/camembert/lib/python3.10/site-packages/transformers/trainer.py:3087\u001b[0m, in \u001b[0;36mTrainer._evaluate\u001b[0;34m(self, trial, ignore_keys_for_eval, skip_scheduler)\u001b[0m\n\u001b[1;32m   3085\u001b[0m \u001b[38;5;28;01mdef\u001b[39;00m\u001b[38;5;250m \u001b[39m\u001b[38;5;21m_evaluate\u001b[39m(\u001b[38;5;28mself\u001b[39m, trial, ignore_keys_for_eval, skip_scheduler\u001b[38;5;241m=\u001b[39m\u001b[38;5;28;01mFalse\u001b[39;00m):\n\u001b[1;32m   3086\u001b[0m     metrics \u001b[38;5;241m=\u001b[39m \u001b[38;5;28mself\u001b[39m\u001b[38;5;241m.\u001b[39mevaluate(ignore_keys\u001b[38;5;241m=\u001b[39mignore_keys_for_eval)\n\u001b[0;32m-> 3087\u001b[0m     \u001b[38;5;28;43mself\u001b[39;49m\u001b[38;5;241;43m.\u001b[39;49m\u001b[43m_report_to_hp_search\u001b[49m\u001b[43m(\u001b[49m\u001b[43mtrial\u001b[49m\u001b[43m,\u001b[49m\u001b[43m \u001b[49m\u001b[38;5;28;43mself\u001b[39;49m\u001b[38;5;241;43m.\u001b[39;49m\u001b[43mstate\u001b[49m\u001b[38;5;241;43m.\u001b[39;49m\u001b[43mglobal_step\u001b[49m\u001b[43m,\u001b[49m\u001b[43m \u001b[49m\u001b[43mmetrics\u001b[49m\u001b[43m)\u001b[49m\n\u001b[1;32m   3089\u001b[0m     \u001b[38;5;66;03m# Run delayed LR scheduler now that metrics are populated\u001b[39;00m\n\u001b[1;32m   3090\u001b[0m     \u001b[38;5;28;01mif\u001b[39;00m \u001b[38;5;28misinstance\u001b[39m(\u001b[38;5;28mself\u001b[39m\u001b[38;5;241m.\u001b[39mlr_scheduler, torch\u001b[38;5;241m.\u001b[39moptim\u001b[38;5;241m.\u001b[39mlr_scheduler\u001b[38;5;241m.\u001b[39mReduceLROnPlateau) \u001b[38;5;129;01mand\u001b[39;00m \u001b[38;5;129;01mnot\u001b[39;00m skip_scheduler:\n",
      "File \u001b[0;32m~/miniconda3/envs/camembert/lib/python3.10/site-packages/transformers/trainer.py:1871\u001b[0m, in \u001b[0;36mTrainer._report_to_hp_search\u001b[0;34m(self, trial, step, metrics)\u001b[0m\n\u001b[1;32m   1869\u001b[0m     \u001b[38;5;28;01mreturn\u001b[39;00m\n\u001b[1;32m   1870\u001b[0m metrics \u001b[38;5;241m=\u001b[39m metrics\u001b[38;5;241m.\u001b[39mcopy()\n\u001b[0;32m-> 1871\u001b[0m \u001b[38;5;28mself\u001b[39m\u001b[38;5;241m.\u001b[39mobjective \u001b[38;5;241m=\u001b[39m \u001b[38;5;28;43mself\u001b[39;49m\u001b[38;5;241;43m.\u001b[39;49m\u001b[43mcompute_objective\u001b[49m\u001b[43m(\u001b[49m\u001b[43mmetrics\u001b[49m\u001b[43m)\u001b[49m\n\u001b[1;32m   1872\u001b[0m \u001b[38;5;28;01mif\u001b[39;00m \u001b[38;5;28mself\u001b[39m\u001b[38;5;241m.\u001b[39mhp_search_backend \u001b[38;5;241m==\u001b[39m HPSearchBackend\u001b[38;5;241m.\u001b[39mOPTUNA:\n\u001b[1;32m   1873\u001b[0m     \u001b[38;5;28;01mimport\u001b[39;00m\u001b[38;5;250m \u001b[39m\u001b[38;5;21;01moptuna\u001b[39;00m\n",
      "File \u001b[0;32m~/projects/CamemBERT-bio/utils.py:252\u001b[0m, in \u001b[0;36mcompute_objective\u001b[0;34m(m)\u001b[0m\n\u001b[1;32m    250\u001b[0m \u001b[38;5;28;01mdef\u001b[39;00m\u001b[38;5;250m \u001b[39m\u001b[38;5;21mcompute_objective\u001b[39m(m):\n\u001b[1;32m    251\u001b[0m     \u001b[38;5;66;03m# e.g., average of three entity F1s computed in compute_metrics\u001b[39;00m\n\u001b[0;32m--> 252\u001b[0m     \u001b[38;5;28;01mreturn\u001b[39;00m (\u001b[43mm\u001b[49m\u001b[43m[\u001b[49m\u001b[38;5;124;43m\"\u001b[39;49m\u001b[38;5;124;43meval_f1_topographie\u001b[39;49m\u001b[38;5;124;43m\"\u001b[39;49m\u001b[43m]\u001b[49m \u001b[38;5;241m+\u001b[39m m[\u001b[38;5;124m\"\u001b[39m\u001b[38;5;124meval_f1_morphologie\u001b[39m\u001b[38;5;124m\"\u001b[39m] \u001b[38;5;241m+\u001b[39m m[\u001b[38;5;124m\"\u001b[39m\u001b[38;5;124meval_f1_stade\u001b[39m\u001b[38;5;124m\"\u001b[39m]) \u001b[38;5;241m/\u001b[39m \u001b[38;5;241m3\u001b[39m\n",
      "\u001b[0;31mKeyError\u001b[0m: 'eval_f1_topographie'"
     ]
    }
   ],
   "source": [
    "hpo_args = TrainingArguments(\n",
    "    output_dir=OUTPUT_DIR_HPO, \n",
    "    eval_strategy=model_args.eval_strategy,\n",
    "    save_strategy=\"no\",\n",
    "    report_to=model_args.report_to, # or maybe not? \n",
    "    metric_for_best_model=model_args.metric_for_best_model,\n",
    "    greater_is_better=model_args.greater_is_better,\n",
    "    seed=42, data_seed=42,   # fix seed during HPO; vary seeds later\n",
    ")\n",
    "\n",
    "hpo_trainer = Trainer(\n",
    "    args=hpo_args,\n",
    "    model_init=model_init,\n",
    "    train_dataset=split_train_dataset[\"train\"],\n",
    "    eval_dataset=split_train_dataset[\"test\"],\n",
    "    tokenizer=tokenizer,\n",
    "    data_collator=data_collator,\n",
    "    compute_metrics=partial(compute_metrics, label_list=label_list)  # must return \"f1\", \"precision\", \"recall\", etc.\n",
    ")\n",
    "\n",
    "best_run = hpo_trainer.hyperparameter_search(\n",
    "    direction=\"maximize\",\n",
    "    hp_space=hp_space,\n",
    "    compute_objective=partial(compute_objective, label_list=label_list),\n",
    "    n_trials=20,\n",
    "    backend=\"optuna\"\n",
    ")\n",
    "print(\"Best hyperparameters:\", best_run.hyperparameters)\n"
   ]
  },
  {
   "cell_type": "markdown",
   "id": "31553a07",
   "metadata": {},
   "source": [
    "Five random initializations"
   ]
  },
  {
   "cell_type": "code",
   "execution_count": null,
   "id": "5a3bed6c",
   "metadata": {},
   "outputs": [],
   "source": [
    "seeds = [11, 22, 33, 44, 55] # should i make this random?\n",
    "\n",
    "results = []\n",
    "for s in seeds:\n",
    "    best_args = TrainingArguments(\n",
    "        output_dir=os.fspath(OUTPUT_DIR_FINAL / f\"s{s}\"),\n",
    "        eval_strategy=\"epoch\",\n",
    "        save_strategy=\"epoch\",\n",
    "        load_best_model_at_end=True,\n",
    "        metric_for_best_model=model_args.metric_for_best_model,\n",
    "        greater_is_better=True,\n",
    "        report_to=model_args.report_to,\n",
    "        seed=s,                   # <- governs init/dropout/etc.\n",
    "        data_seed=s,              # <- governs shuffling/samplers\n",
    "        remove_unused_columns=model_args.remove_unused_columns,\n",
    "        per_device_train_batch_size=best_run.hyperparameters.get(\"per_device_train_batch_size\", 8),\n",
    "        per_device_eval_batch_size=max(16, best_run.hyperparameters.get(\"per_device_train_batch_size\", 8)*4),\n",
    "        gradient_accumulation_steps=best_run.hyperparameters.get(\"gradient_accumulation_steps\", 2),\n",
    "        learning_rate=best_run.hyperparameters.get(\"learning_rate\", 5e-5),\n",
    "        num_train_epochs=best_run.hyperparameters.get(\"num_train_epochs\", 5),\n",
    "        weight_decay=best_run.hyperparameters.get(\"weight_decay\", 0.01),\n",
    "        warmup_ratio=best_run.hyperparameters.get(\"warmup_ratio\", 0.1),\n",
    "        save_total_limit=model_args.save_total_limit,\n",
    "        logging_steps=model_args.logging_steps,\n",
    "        logging_dir=model_args.logging_dir,\n",
    "        load_best_model_at_end=model_args.load_best_model_at_end,\n",
    "        report_to=model_args.report_to,\n",
    "        run_name=f\"{dir_model_name}_s{s}\",  # TB run label\n",
    "    )\n",
    "\n",
    "    final_trainer = Trainer(\n",
    "        args=best_args,\n",
    "        model_init=model_init,   # ensures model is (re)initialized *after* seeding\n",
    "        train_dataset=split_train_dataset[\"train\"],\n",
    "        eval_dataset=split_train_dataset[\"test\"],\n",
    "        tokenizer=tokenizer,\n",
    "        data_collator=data_collator,\n",
    "        compute_metrics=compute_metrics,   # returns \"f1\", etc.\n",
    "    )\n",
    "\n",
    "    final_trainer.train()\n",
    "    metrics = final_trainer.evaluate()\n",
    "    metrics[\"seed\"] = s\n",
    "    results.append(metrics)\n"
   ]
  },
  {
   "cell_type": "markdown",
   "id": "37bad4be",
   "metadata": {},
   "source": [
    "Train model with best hyperparameters"
   ]
  },
  {
   "cell_type": "code",
   "execution_count": null,
   "id": "bc0acc4b",
   "metadata": {},
   "outputs": [],
   "source": [
    "# best_args = TrainingArguments(\n",
    "#     output_dir=OUTPUT_DIR_FINAL,\n",
    "#     eval_strategy=\"epoch\",\n",
    "#     save_strategy=\"epoch\",\n",
    "#     load_best_model_at_end=True,\n",
    "#     metric_for_best_model=\"f1\",\n",
    "#     greater_is_better=True,\n",
    "#     report_to=[\"tensorboard\"],\n",
    "#     seed=42, data_seed=42,\n",
    "#     # merge best hyperparams (use .get in case some keys weren't tuned)\n",
    "#     learning_rate=best_run.hyperparameters.get(\"learning_rate\", 5e-5),\n",
    "#     num_train_epochs=best_run.hyperparameters.get(\"num_train_epochs\", 5),\n",
    "#     per_device_train_batch_size=best_run.hyperparameters.get(\"per_device_train_batch_size\", 8),\n",
    "#     weight_decay=best_run.hyperparameters.get(\"weight_decay\", 0.01),\n",
    "#     warmup_ratio=best_run.hyperparameters.get(\"warmup_ratio\", 0.1),\n",
    "# )\n",
    "\n"
   ]
  },
  {
   "cell_type": "markdown",
   "id": "1209439a",
   "metadata": {},
   "source": [
    "Get metrics"
   ]
  },
  {
   "cell_type": "code",
   "execution_count": null,
   "id": "776111d0",
   "metadata": {},
   "outputs": [
    {
     "name": "stderr",
     "output_type": "stream",
     "text": [
      "Generating train split: 5418 examples [00:00, 124322.93 examples/s]\n",
      "Map: 100%|██████████| 5418/5418 [00:00<00:00, 7053.39 examples/s]\n",
      "Map: 100%|██████████| 5418/5418 [00:00<00:00, 14696.88 examples/s]\n",
      "Casting the dataset: 100%|██████████| 5418/5418 [00:00<00:00, 842686.95 examples/s]\n",
      "Map: 100%|██████████| 5418/5418 [00:00<00:00, 13747.16 examples/s]\n"
     ]
    },
    {
     "data": {
      "text/html": [
       "\n",
       "    <div>\n",
       "      \n",
       "      <progress value='678' max='678' style='width:300px; height:20px; vertical-align: middle;'></progress>\n",
       "      [678/678 00:31]\n",
       "    </div>\n",
       "    "
      ],
      "text/plain": [
       "<IPython.core.display.HTML object>"
      ]
     },
     "metadata": {},
     "output_type": "display_data"
    },
    {
     "name": "stdout",
     "output_type": "stream",
     "text": [
      "{'eval_loss': 0.04378490895032883, 'eval_precision': 0.7585371227142542, 'eval_recall': 0.879887554306159, 'eval_f1': 0.8147184098438239, 'eval_accuracy': 0.9849361291877561, 'eval_runtime': 33.7551, 'eval_samples_per_second': 160.509, 'eval_steps_per_second': 20.086, 'epoch': 4.0}\n"
     ]
    }
   ],
   "source": [
    "metrics = final_trainer.evaluate(eval_dataset=tokenized_test_dataset[\"train\"])\n",
    "print(metrics)"
   ]
  },
  {
   "cell_type": "markdown",
   "id": "6310c357",
   "metadata": {},
   "source": [
    "Save final model"
   ]
  },
  {
   "cell_type": "code",
   "execution_count": null,
   "id": "00c59aef",
   "metadata": {},
   "outputs": [
    {
     "name": "stderr",
     "output_type": "stream",
     "text": [
      "Saving model checkpoint to /home/mv376/projects/CamemBERT-bio/models/almanach/camembert-bio-base\n",
      "Configuration saved in /home/mv376/projects/CamemBERT-bio/models/almanach/camembert-bio-base/config.json\n",
      "Model weights saved in /home/mv376/projects/CamemBERT-bio/models/almanach/camembert-bio-base/model.safetensors\n",
      "tokenizer config file saved in /home/mv376/projects/CamemBERT-bio/models/almanach/camembert-bio-base/tokenizer_config.json\n",
      "Special tokens file saved in /home/mv376/projects/CamemBERT-bio/models/almanach/camembert-bio-base/special_tokens_map.json\n"
     ]
    }
   ],
   "source": [
    "final_trainer.save_model(MODEL_SAVE_PATH)"
   ]
  }
 ],
 "metadata": {
  "kernelspec": {
   "display_name": "camembert",
   "language": "python",
   "name": "python3"
  },
  "language_info": {
   "codemirror_mode": {
    "name": "ipython",
    "version": 3
   },
   "file_extension": ".py",
   "mimetype": "text/x-python",
   "name": "python",
   "nbconvert_exporter": "python",
   "pygments_lexer": "ipython3",
   "version": "3.10.18"
  }
 },
 "nbformat": 4,
 "nbformat_minor": 5
}
