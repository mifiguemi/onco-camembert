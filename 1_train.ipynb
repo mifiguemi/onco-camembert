{
 "cells": [
  {
   "cell_type": "code",
   "execution_count": null,
   "id": "0a0e2d7d",
   "metadata": {},
   "outputs": [
    {
     "name": "stdout",
     "output_type": "stream",
     "text": [
      "The autoreload extension is already loaded. To reload it, use:\n",
      "  %reload_ext autoreload\n"
     ]
    }
   ],
   "source": [
    "%load_ext autoreload\n",
    "%autoreload 2\n",
    "import utils as bu  "
   ]
  },
  {
   "cell_type": "markdown",
   "id": "e8c042d2",
   "metadata": {},
   "source": [
    "Import required packages"
   ]
  },
  {
   "cell_type": "code",
   "execution_count": null,
   "id": "23877173",
   "metadata": {},
   "outputs": [],
   "source": [
    "from pathlib import Path\n",
    "import random\n",
    "from transformers.utils import logging\n",
    "import torch\n",
    "import os\n",
    "from functools import partial\n",
    "from transformers import (AutoTokenizer, DataCollatorForTokenClassification, \n",
    "                          AutoModelForTokenClassification, TrainingArguments, \n",
    "                          Trainer, EarlyStoppingCallback, set_seed) \n",
    "from utils import (dataset_generator, get_tokenize_and_align_labels_fn, \n",
    "                       compute_metrics, build_token_cls, hp_space, compute_objective)\n",
    "from argparse import Namespace\n",
    "import ipywidgets as widgets\n",
    "from IPython.display import display\n",
    "import evaluate\n",
    "import numpy as np \n",
    "from datetime import datetime"
   ]
  },
  {
   "cell_type": "markdown",
   "id": "9559fe2d",
   "metadata": {},
   "source": [
    "Check if running on GPU or CPU"
   ]
  },
  {
   "cell_type": "code",
   "execution_count": 43,
   "id": "6545f3b9",
   "metadata": {},
   "outputs": [
    {
     "name": "stdout",
     "output_type": "stream",
     "text": [
      "Number of available GPUs: 1\n",
      "GPU 0: NVIDIA RTX 500 Ada Generation Laptop GPU\n",
      "Using: cuda\n"
     ]
    }
   ],
   "source": [
    "\n",
    "if torch.cuda.is_available():\n",
    "    gpu_count = torch.cuda.device_count()\n",
    "    print(f\"Number of available GPUs: {gpu_count}\")\n",
    "\n",
    "    for i in range(gpu_count):\n",
    "        gpu_name = torch.cuda.get_device_name(i)\n",
    "        print(f\"GPU {i}: {gpu_name}\")\n",
    "    device = torch.device(\"cuda\")\n",
    "else:\n",
    "    device = torch.device(\"cpu\")\n",
    "\n",
    "print(\"Using:\", device)"
   ]
  },
  {
   "cell_type": "markdown",
   "id": "60b07b7b",
   "metadata": {},
   "source": [
    "Define paths to folders "
   ]
  },
  {
   "cell_type": "code",
   "execution_count": 44,
   "id": "b00cf2a7",
   "metadata": {},
   "outputs": [],
   "source": [
    "PROJECT_ROOT = Path.cwd()\n",
    "if not (PROJECT_ROOT / \"data\").exists():\n",
    "    PROJECT_ROOT = PROJECT_ROOT.parent\n",
    "TRAIN_CSV_FILE = PROJECT_ROOT / \"data/csv_format/ner_sentences_train.csv\"\n",
    "TEST_CSV_FILE  = PROJECT_ROOT / \"data/csv_format/ner_sentences_test.csv\"\n"
   ]
  },
  {
   "cell_type": "markdown",
   "id": "cd013ebf",
   "metadata": {},
   "source": [
    "Load datasets from .csv file"
   ]
  },
  {
   "cell_type": "code",
   "execution_count": 45,
   "id": "012625b3",
   "metadata": {},
   "outputs": [
    {
     "name": "stdout",
     "output_type": "stream",
     "text": [
      "Labels:  ['O', 'B-morphologie', 'I-morphologie', 'B-topographie', 'I-topographie', 'B-differenciation', 'I-differenciation', 'B-stade', 'I-stade']\n"
     ]
    }
   ],
   "source": [
    "# Load datasets from CSV\n",
    "train_dataset = dataset_generator(TRAIN_CSV_FILE)\n",
    "test_dataset = dataset_generator(TEST_CSV_FILE)\n",
    "\n",
    "# Remove columns that are not needed for training\n",
    "cols_to_remove = train_dataset[\"train\"].column_names  # e.g., ['words','tags',...]\n",
    "\n",
    "label_list = train_dataset[\"train\"].features[f\"tags\"].feature.names\n",
    "print(\"Labels: \", label_list)\n",
    "label2id = {label: id for id, label in enumerate(label_list)}\n",
    "id2label = {id: label for label, id in label2id.items()}"
   ]
  },
  {
   "cell_type": "markdown",
   "id": "fb2f6bf1",
   "metadata": {},
   "source": [
    "Define tokenizer and model (and arguments??)\n",
    "\n",
    "* 'model_name': huggingface model name. Has been tested with: camembert-base, almanach/camembert-bio-base, flaubert/flaubert_base_cased and bert-base-multilingual-cased."
   ]
  },
  {
   "cell_type": "code",
   "execution_count": 46,
   "id": "5c18bddb",
   "metadata": {},
   "outputs": [
    {
     "data": {
      "application/vnd.jupyter.widget-view+json": {
       "model_id": "08ca8e50eec845a48857fd52ae551151",
       "version_major": 2,
       "version_minor": 0
      },
      "text/plain": [
       "Dropdown(description='Model:', options=('almanach/camembert-bio-base', 'camembert-base', 'flaubert/flaubert_ba…"
      ]
     },
     "metadata": {},
     "output_type": "display_data"
    },
    {
     "data": {
      "application/vnd.jupyter.widget-view+json": {
       "model_id": "8e77e966c9c1464282450f657df1dbc6",
       "version_major": 2,
       "version_minor": 0
      },
      "text/plain": [
       "IntSlider(value=5, description='Epochs:', max=16, min=1)"
      ]
     },
     "metadata": {},
     "output_type": "display_data"
    },
    {
     "data": {
      "application/vnd.jupyter.widget-view+json": {
       "model_id": "1a8e943066524c42b5a16845f8787529",
       "version_major": 2,
       "version_minor": 0
      },
      "text/plain": [
       "IntSlider(value=8, description='Batch Size:', max=32, min=1)"
      ]
     },
     "metadata": {},
     "output_type": "display_data"
    },
    {
     "data": {
      "application/vnd.jupyter.widget-view+json": {
       "model_id": "b36115eb53c140daaf53a4138fd03e3b",
       "version_major": 2,
       "version_minor": 0
      },
      "text/plain": [
       "FloatLogSlider(value=5e-05, description='LR:', max=-2.0, min=-6.0, readout_format='.1e')"
      ]
     },
     "metadata": {},
     "output_type": "display_data"
    },
    {
     "name": "stdout",
     "output_type": "stream",
     "text": [
      "Namespace(model_name='almanach/camembert-bio-base', num_train_epochs=5, per_device_train_batch_size=8, per_device_eval_batch_size=8, learning_rate=5e-05, remove_unused_columns=True, seed=42, logging_dir='logs', logging_steps=100, report_to=['tensorboard'], load_best_model_at_end=True, save_total_limit=2, metric_for_best_model='f1', greater_is_better=True, eval_strategy='epoch', save_strategy='epoch', batch_size=8)\n"
     ]
    }
   ],
   "source": [
    "# model options\n",
    "model_options = [\n",
    "    \"almanach/camembert-bio-base\",\n",
    "    \"camembert-base\",\n",
    "    \"flaubert/flaubert_base_cased\",\n",
    "    # \"Dr-BERT/DrBERT-7GB\",\n",
    "    \"bert-base-multilingual-cased\", \n",
    "    \"cservan/french-albert-base-cased\"\n",
    "]\n",
    "\n",
    "# model default hyperparameters\n",
    "model_args_dict = {\n",
    "    \"model_name\":\"almanach/camembert-bio-base\",\n",
    "    \"num_train_epochs\": 5,\n",
    "    \"per_device_train_batch_size\": 8,\n",
    "    \"per_device_eval_batch_size\": 8,\n",
    "    \"learning_rate\": 5e-5,\n",
    "    \"remove_unused_columns\": True,\n",
    "    \"seed\": 42,\n",
    "    \"logging_dir\": \"logs\",\n",
    "    \"logging_steps\": 100,           # log every N steps\n",
    "    \"report_to\": [\"tensorboard\"],  # log to TensorBoard\n",
    "    \"load_best_model_at_end\": True,\n",
    "    \"save_total_limit\": 2,  # keep only the last 2 checkpoints\n",
    "    \"metric_for_best_model\": \"f1\",\n",
    "    \"greater_is_better\": True,  # for f1, higher is better\n",
    "    \"eval_strategy\": \"epoch\",            # evaluate each epoch\n",
    "    \"save_strategy\": \"epoch\",          # checkpoint each epoch\n",
    "}\n",
    "\n",
    "model_args = Namespace(**model_args_dict)\n",
    "\n",
    "model_name_widget = widgets.Dropdown(\n",
    "    options=model_options,\n",
    "    value=model_args.model_name,\n",
    "    description='Model:',\n",
    ")\n",
    "num_epochs_widget = widgets.IntSlider(value=model_args.num_train_epochs, min=1, max=16, description='Epochs:')\n",
    "train_batch_size_widget = widgets.IntSlider(value=model_args.per_device_train_batch_size, min=1, max=32, description='Batch Size:')\n",
    "lr_widget = widgets.FloatLogSlider(value=model_args.learning_rate, base=10, min=-6, max=-2, step=0.1, description='LR:', readout_format='.1e')\n",
    "\n",
    "display(model_name_widget, num_epochs_widget, train_batch_size_widget, lr_widget)\n",
    "\n",
    "# Sync function to update Namespace\n",
    "def update_args(*_):\n",
    "    model_args.model_name = model_name_widget.value\n",
    "    model_args.num_train_epochs = num_epochs_widget.value\n",
    "    model_args.batch_size = train_batch_size_widget.value\n",
    "    model_args.learning_rate = lr_widget.value\n",
    "\n",
    "for w in [model_name_widget, num_epochs_widget, train_batch_size_widget, lr_widget]:\n",
    "    w.observe(update_args, names='value')\n",
    "\n",
    "update_args()  # sync initially\n",
    "print(model_args)\n",
    "\n"
   ]
  },
  {
   "cell_type": "markdown",
   "id": "30790ac6",
   "metadata": {},
   "source": [
    "Load tokenizer and model"
   ]
  },
  {
   "cell_type": "code",
   "execution_count": 47,
   "id": "1450b1b8",
   "metadata": {},
   "outputs": [
    {
     "name": "stderr",
     "output_type": "stream",
     "text": [
      "loading file sentencepiece.bpe.model from cache at /home/mv376/.cache/huggingface/hub/models--almanach--camembert-bio-base/snapshots/7a70e4b76571c8173b9416ba6d9e7ceba1c46ec3/sentencepiece.bpe.model\n",
      "loading file tokenizer.json from cache at /home/mv376/.cache/huggingface/hub/models--almanach--camembert-bio-base/snapshots/7a70e4b76571c8173b9416ba6d9e7ceba1c46ec3/tokenizer.json\n",
      "loading file added_tokens.json from cache at None\n",
      "loading file special_tokens_map.json from cache at /home/mv376/.cache/huggingface/hub/models--almanach--camembert-bio-base/snapshots/7a70e4b76571c8173b9416ba6d9e7ceba1c46ec3/special_tokens_map.json\n",
      "loading file tokenizer_config.json from cache at /home/mv376/.cache/huggingface/hub/models--almanach--camembert-bio-base/snapshots/7a70e4b76571c8173b9416ba6d9e7ceba1c46ec3/tokenizer_config.json\n",
      "loading file chat_template.jinja from cache at None\n",
      "loading configuration file config.json from cache at /home/mv376/.cache/huggingface/hub/models--almanach--camembert-bio-base/snapshots/7a70e4b76571c8173b9416ba6d9e7ceba1c46ec3/config.json\n",
      "Model config CamembertConfig {\n",
      "  \"architectures\": [\n",
      "    \"CamembertForMaskedLM\"\n",
      "  ],\n",
      "  \"attention_probs_dropout_prob\": 0.1,\n",
      "  \"bos_token_id\": 5,\n",
      "  \"classifier_dropout\": null,\n",
      "  \"eos_token_id\": 6,\n",
      "  \"hidden_act\": \"gelu\",\n",
      "  \"hidden_dropout_prob\": 0.1,\n",
      "  \"hidden_size\": 768,\n",
      "  \"id2label\": {\n",
      "    \"0\": \"O\",\n",
      "    \"1\": \"B-morphologie\",\n",
      "    \"2\": \"I-morphologie\",\n",
      "    \"3\": \"B-topographie\",\n",
      "    \"4\": \"I-topographie\",\n",
      "    \"5\": \"B-differenciation\",\n",
      "    \"6\": \"I-differenciation\",\n",
      "    \"7\": \"B-stade\",\n",
      "    \"8\": \"I-stade\"\n",
      "  },\n",
      "  \"initializer_range\": 0.02,\n",
      "  \"intermediate_size\": 3072,\n",
      "  \"label2id\": {\n",
      "    \"B-differenciation\": 5,\n",
      "    \"B-morphologie\": 1,\n",
      "    \"B-stade\": 7,\n",
      "    \"B-topographie\": 3,\n",
      "    \"I-differenciation\": 6,\n",
      "    \"I-morphologie\": 2,\n",
      "    \"I-stade\": 8,\n",
      "    \"I-topographie\": 4,\n",
      "    \"O\": 0\n",
      "  },\n",
      "  \"layer_norm_eps\": 1e-05,\n",
      "  \"max_position_embeddings\": 514,\n",
      "  \"model_type\": \"camembert\",\n",
      "  \"num_attention_heads\": 12,\n",
      "  \"num_hidden_layers\": 12,\n",
      "  \"output_past\": true,\n",
      "  \"pad_token_id\": 1,\n",
      "  \"position_embedding_type\": \"absolute\",\n",
      "  \"torch_dtype\": \"float32\",\n",
      "  \"transformers_version\": \"4.55.0\",\n",
      "  \"type_vocab_size\": 1,\n",
      "  \"use_cache\": true,\n",
      "  \"vocab_size\": 32005\n",
      "}\n",
      "\n",
      "loading weights file model.safetensors from cache at /home/mv376/.cache/huggingface/hub/models--almanach--camembert-bio-base/snapshots/7a70e4b76571c8173b9416ba6d9e7ceba1c46ec3/model.safetensors\n",
      "Some weights of the model checkpoint at almanach/camembert-bio-base were not used when initializing CamembertForTokenClassification: ['lm_head.bias', 'lm_head.dense.bias', 'lm_head.dense.weight', 'lm_head.layer_norm.bias', 'lm_head.layer_norm.weight']\n",
      "- This IS expected if you are initializing CamembertForTokenClassification from the checkpoint of a model trained on another task or with another architecture (e.g. initializing a BertForSequenceClassification model from a BertForPreTraining model).\n",
      "- This IS NOT expected if you are initializing CamembertForTokenClassification from the checkpoint of a model that you expect to be exactly identical (initializing a BertForSequenceClassification model from a BertForSequenceClassification model).\n",
      "Some weights of CamembertForTokenClassification were not initialized from the model checkpoint at almanach/camembert-bio-base and are newly initialized: ['classifier.bias', 'classifier.weight']\n",
      "You should probably TRAIN this model on a down-stream task to be able to use it for predictions and inference.\n"
     ]
    }
   ],
   "source": [
    "logging.set_verbosity_info()\n",
    "\n",
    "tokenizer = AutoTokenizer.from_pretrained(model_args.model_name, use_fast=True)\n",
    "model = AutoModelForTokenClassification.from_pretrained(model_args.model_name, num_labels=9, id2label=id2label, label2id=label2id)\n",
    "data_collator = DataCollatorForTokenClassification(tokenizer=tokenizer) "
   ]
  },
  {
   "cell_type": "markdown",
   "id": "cb94bfa2",
   "metadata": {},
   "source": [
    "Tokenize datasets"
   ]
  },
  {
   "cell_type": "code",
   "execution_count": 54,
   "id": "76c76701",
   "metadata": {},
   "outputs": [
    {
     "data": {
      "application/vnd.jupyter.widget-view+json": {
       "model_id": "6959f96cdc5941eea4e51f71991ff513",
       "version_major": 2,
       "version_minor": 0
      },
      "text/plain": [
       "Map:   0%|          | 0/21670 [00:00<?, ? examples/s]"
      ]
     },
     "metadata": {},
     "output_type": "display_data"
    }
   ],
   "source": [
    "\n",
    "tokenize_fn = get_tokenize_and_align_labels_fn(\n",
    "    tokenizer=tokenizer,\n",
    "    label2id=None,          # skip mapping because labels are already integers\n",
    "    label_all_tokens=False\n",
    ")\n",
    "\n",
    "tokenized_train_dataset = train_dataset.map(tokenize_fn, batched=True, remove_columns=cols_to_remove) \n",
    "tokenized_test_dataset = test_dataset.map(tokenize_fn, batched=True, remove_columns=cols_to_remove) \n",
    "split_train_dataset = tokenized_train_dataset[\"train\"].train_test_split(test_size=0.1) # Split train dataset into train and validation sets "
   ]
  },
  {
   "cell_type": "markdown",
   "id": "acda4d5b",
   "metadata": {},
   "source": [
    "Define output and model location"
   ]
  },
  {
   "cell_type": "code",
   "execution_count": 51,
   "id": "96ada9f6",
   "metadata": {},
   "outputs": [],
   "source": [
    "MODEL_NAME_MAP = {\n",
    "    \"almanach/camembert-bio-base\": \"camembert-bio\",\n",
    "    \"camembert-base\": \"camembert-base\",\n",
    "    \"flaubert/flaubert_base_cased\": \"flaubert-base\",\n",
    "    \"bert-base-multilingual-cased\": \"bert-base-multilingual\",\n",
    "    \"cservan/french-albert-base-cased\": \"fr-albert\"\n",
    "}\n",
    "dir_model_name = MODEL_NAME_MAP[model_args.model_name]\n",
    "\n",
    "OUTPUT_DIR_HPO = PROJECT_ROOT / \"runs/hpo\" / f\"{dir_model_name}_{datetime.now().strftime('%Y-%m-%d_%H-%M')}\"\n",
    "OUTPUT_DIR_FINAL = PROJECT_ROOT / \"runs/final_best\" / f\"{dir_model_name}_{datetime.now().strftime('%Y-%m-%d_%H-%M')}\"\n",
    "MODEL_SAVE_PATH = PROJECT_ROOT / \"models\" / dir_model_name\n",
    "\n",
    "OUTPUT_DIR_HPO.mkdir(parents=True, exist_ok=True)\n",
    "OUTPUT_DIR_FINAL.mkdir(parents=True, exist_ok=True)\n",
    "MODEL_SAVE_PATH.mkdir(parents=True, exist_ok=True)"
   ]
  },
  {
   "cell_type": "markdown",
   "id": "9f285137",
   "metadata": {},
   "source": [
    "Train model"
   ]
  },
  {
   "cell_type": "code",
   "execution_count": 52,
   "id": "35cc45df",
   "metadata": {},
   "outputs": [],
   "source": [
    "\n",
    "model_init = partial(\n",
    "    build_token_cls,\n",
    "    model_args.model_name,\n",
    "    len(label_list),\n",
    "    id2label,\n",
    "    label2id\n",
    ")\n",
    "\n",
    "# training_args = TrainingArguments(\n",
    "#     output_dir = OUTPUT_DIR,\n",
    "#     num_train_epochs=model_args.num_train_epochs,\n",
    "#     per_device_train_batch_size=model_args.per_device_train_batch_size,\n",
    "#     per_device_eval_batch_size=model_args.per_device_eval_batch_size,\n",
    "#     learning_rate=model_args.learning_rate,\n",
    "#     remove_unused_columns=model_args.remove_unused_columns,\n",
    "#     seed=model_args.seed,\n",
    "#     logging_dir=model_args.logging_dir,\n",
    "#     logging_steps=model_args.logging_steps,           \n",
    "#     report_to=model_args.report_to,           \n",
    "#     load_best_model_at_end=model_args.load_best_model_at_end,\n",
    "#     save_total_limit=model_args.save_total_limit,      \n",
    "#     metric_for_best_model=model_args.metric_for_best_model,\n",
    "#     greater_is_better=model_args.greater_is_better, \n",
    "#     eval_strategy=model_args.eval_strategy,             \n",
    "#     save_strategy=model_args.save_strategy,             \n",
    "# )\n",
    "\n",
    "# trainer = Trainer(\n",
    "#     model_init=model_init,\n",
    "#     args=training_args,\n",
    "#     train_dataset=split_train_dataset[\"train\"], # train dataset\n",
    "#     eval_dataset=split_train_dataset[\"test\"], # validation dataset\n",
    "#     processing_class=tokenizer,\n",
    "#     data_collator=data_collator, \n",
    "#     compute_metrics=partial(compute_metrics, label_list=label_list),\n",
    "#     callbacks=[EarlyStoppingCallback(early_stopping_patience=2)]\n",
    "# )\n"
   ]
  },
  {
   "cell_type": "markdown",
   "id": "edc58987",
   "metadata": {},
   "source": [
    "Search for best hyperparameters"
   ]
  },
  {
   "cell_type": "code",
   "execution_count": null,
   "id": "0980d742",
   "metadata": {},
   "outputs": [
    {
     "name": "stderr",
     "output_type": "stream",
     "text": [
      "PyTorch: setting up devices\n"
     ]
    },
    {
     "name": "stderr",
     "output_type": "stream",
     "text": [
      "average_tokens_across_devices is True but world size is 1. Setting it to False automatically.\n",
      "/tmp/ipykernel_290348/3957496069.py:11: FutureWarning: `tokenizer` is deprecated and will be removed in version 5.0.0 for `Trainer.__init__`. Use `processing_class` instead.\n",
      "  trainer = Trainer(\n",
      "loading configuration file config.json from cache at /home/mv376/.cache/huggingface/hub/models--almanach--camembert-bio-base/snapshots/7a70e4b76571c8173b9416ba6d9e7ceba1c46ec3/config.json\n",
      "Model config CamembertConfig {\n",
      "  \"architectures\": [\n",
      "    \"CamembertForMaskedLM\"\n",
      "  ],\n",
      "  \"attention_probs_dropout_prob\": 0.1,\n",
      "  \"bos_token_id\": 5,\n",
      "  \"classifier_dropout\": null,\n",
      "  \"eos_token_id\": 6,\n",
      "  \"hidden_act\": \"gelu\",\n",
      "  \"hidden_dropout_prob\": 0.1,\n",
      "  \"hidden_size\": 768,\n",
      "  \"id2label\": {\n",
      "    \"0\": \"O\",\n",
      "    \"1\": \"B-morphologie\",\n",
      "    \"2\": \"I-morphologie\",\n",
      "    \"3\": \"B-topographie\",\n",
      "    \"4\": \"I-topographie\",\n",
      "    \"5\": \"B-differenciation\",\n",
      "    \"6\": \"I-differenciation\",\n",
      "    \"7\": \"B-stade\",\n",
      "    \"8\": \"I-stade\"\n",
      "  },\n",
      "  \"initializer_range\": 0.02,\n",
      "  \"intermediate_size\": 3072,\n",
      "  \"label2id\": {\n",
      "    \"B-differenciation\": 5,\n",
      "    \"B-morphologie\": 1,\n",
      "    \"B-stade\": 7,\n",
      "    \"B-topographie\": 3,\n",
      "    \"I-differenciation\": 6,\n",
      "    \"I-morphologie\": 2,\n",
      "    \"I-stade\": 8,\n",
      "    \"I-topographie\": 4,\n",
      "    \"O\": 0\n",
      "  },\n",
      "  \"layer_norm_eps\": 1e-05,\n",
      "  \"max_position_embeddings\": 514,\n",
      "  \"model_type\": \"camembert\",\n",
      "  \"num_attention_heads\": 12,\n",
      "  \"num_hidden_layers\": 12,\n",
      "  \"output_past\": true,\n",
      "  \"pad_token_id\": 1,\n",
      "  \"position_embedding_type\": \"absolute\",\n",
      "  \"torch_dtype\": \"float32\",\n",
      "  \"transformers_version\": \"4.55.0\",\n",
      "  \"type_vocab_size\": 1,\n",
      "  \"use_cache\": true,\n",
      "  \"vocab_size\": 32005\n",
      "}\n",
      "\n",
      "loading weights file model.safetensors from cache at /home/mv376/.cache/huggingface/hub/models--almanach--camembert-bio-base/snapshots/7a70e4b76571c8173b9416ba6d9e7ceba1c46ec3/model.safetensors\n",
      "Some weights of the model checkpoint at almanach/camembert-bio-base were not used when initializing CamembertForTokenClassification: ['lm_head.bias', 'lm_head.dense.bias', 'lm_head.dense.weight', 'lm_head.layer_norm.bias', 'lm_head.layer_norm.weight']\n",
      "- This IS expected if you are initializing CamembertForTokenClassification from the checkpoint of a model trained on another task or with another architecture (e.g. initializing a BertForSequenceClassification model from a BertForPreTraining model).\n",
      "- This IS NOT expected if you are initializing CamembertForTokenClassification from the checkpoint of a model that you expect to be exactly identical (initializing a BertForSequenceClassification model from a BertForSequenceClassification model).\n",
      "Some weights of CamembertForTokenClassification were not initialized from the model checkpoint at almanach/camembert-bio-base and are newly initialized: ['classifier.bias', 'classifier.weight']\n",
      "You should probably TRAIN this model on a down-stream task to be able to use it for predictions and inference.\n",
      "[I 2025-08-17 09:43:47,744] A new study created in memory with name: no-name-69d2bd9e-1d11-46f0-87b5-d16eca8a2ea6\n",
      "Trial: {'learning_rate': 0.0003322159890682022, 'num_train_epochs': 6, 'weight_decay': 0.05938959117610143, 'per_device_train_batch_size': 16, 'warmup_ratio': 0.14404599355468956}\n",
      "loading configuration file config.json from cache at /home/mv376/.cache/huggingface/hub/models--almanach--camembert-bio-base/snapshots/7a70e4b76571c8173b9416ba6d9e7ceba1c46ec3/config.json\n",
      "Model config CamembertConfig {\n",
      "  \"architectures\": [\n",
      "    \"CamembertForMaskedLM\"\n",
      "  ],\n",
      "  \"attention_probs_dropout_prob\": 0.1,\n",
      "  \"bos_token_id\": 5,\n",
      "  \"classifier_dropout\": null,\n",
      "  \"eos_token_id\": 6,\n",
      "  \"hidden_act\": \"gelu\",\n",
      "  \"hidden_dropout_prob\": 0.1,\n",
      "  \"hidden_size\": 768,\n",
      "  \"id2label\": {\n",
      "    \"0\": \"O\",\n",
      "    \"1\": \"B-morphologie\",\n",
      "    \"2\": \"I-morphologie\",\n",
      "    \"3\": \"B-topographie\",\n",
      "    \"4\": \"I-topographie\",\n",
      "    \"5\": \"B-differenciation\",\n",
      "    \"6\": \"I-differenciation\",\n",
      "    \"7\": \"B-stade\",\n",
      "    \"8\": \"I-stade\"\n",
      "  },\n",
      "  \"initializer_range\": 0.02,\n",
      "  \"intermediate_size\": 3072,\n",
      "  \"label2id\": {\n",
      "    \"B-differenciation\": 5,\n",
      "    \"B-morphologie\": 1,\n",
      "    \"B-stade\": 7,\n",
      "    \"B-topographie\": 3,\n",
      "    \"I-differenciation\": 6,\n",
      "    \"I-morphologie\": 2,\n",
      "    \"I-stade\": 8,\n",
      "    \"I-topographie\": 4,\n",
      "    \"O\": 0\n",
      "  },\n",
      "  \"layer_norm_eps\": 1e-05,\n",
      "  \"max_position_embeddings\": 514,\n",
      "  \"model_type\": \"camembert\",\n",
      "  \"num_attention_heads\": 12,\n",
      "  \"num_hidden_layers\": 12,\n",
      "  \"output_past\": true,\n",
      "  \"pad_token_id\": 1,\n",
      "  \"position_embedding_type\": \"absolute\",\n",
      "  \"torch_dtype\": \"float32\",\n",
      "  \"transformers_version\": \"4.55.0\",\n",
      "  \"type_vocab_size\": 1,\n",
      "  \"use_cache\": true,\n",
      "  \"vocab_size\": 32005\n",
      "}\n",
      "\n",
      "loading weights file model.safetensors from cache at /home/mv376/.cache/huggingface/hub/models--almanach--camembert-bio-base/snapshots/7a70e4b76571c8173b9416ba6d9e7ceba1c46ec3/model.safetensors\n",
      "Some weights of the model checkpoint at almanach/camembert-bio-base were not used when initializing CamembertForTokenClassification: ['lm_head.bias', 'lm_head.dense.bias', 'lm_head.dense.weight', 'lm_head.layer_norm.bias', 'lm_head.layer_norm.weight']\n",
      "- This IS expected if you are initializing CamembertForTokenClassification from the checkpoint of a model trained on another task or with another architecture (e.g. initializing a BertForSequenceClassification model from a BertForPreTraining model).\n",
      "- This IS NOT expected if you are initializing CamembertForTokenClassification from the checkpoint of a model that you expect to be exactly identical (initializing a BertForSequenceClassification model from a BertForSequenceClassification model).\n",
      "Some weights of CamembertForTokenClassification were not initialized from the model checkpoint at almanach/camembert-bio-base and are newly initialized: ['classifier.bias', 'classifier.weight']\n",
      "You should probably TRAIN this model on a down-stream task to be able to use it for predictions and inference.\n",
      "***** Running training *****\n",
      "  Num examples = 19,503\n",
      "  Num Epochs = 6\n",
      "  Instantaneous batch size per device = 16\n",
      "  Total train batch size (w. parallel, distributed & accumulation) = 16\n",
      "  Gradient Accumulation steps = 1\n",
      "  Total optimization steps = 7,314\n",
      "  Number of trainable parameters = 110,038,281\n"
     ]
    },
    {
     "data": {
      "text/html": [
       "\n",
       "    <div>\n",
       "      \n",
       "      <progress value='655' max='7314' style='width:300px; height:20px; vertical-align: middle;'></progress>\n",
       "      [ 655/7314 08:46 < 1:29:27, 1.24 it/s, Epoch 0.54/6]\n",
       "    </div>\n",
       "    <table border=\"1\" class=\"dataframe\">\n",
       "  <thead>\n",
       " <tr style=\"text-align: left;\">\n",
       "      <th>Epoch</th>\n",
       "      <th>Training Loss</th>\n",
       "      <th>Validation Loss</th>\n",
       "    </tr>\n",
       "  </thead>\n",
       "  <tbody>\n",
       "  </tbody>\n",
       "</table><p>"
      ],
      "text/plain": [
       "<IPython.core.display.HTML object>"
      ]
     },
     "metadata": {},
     "output_type": "display_data"
    }
   ],
   "source": [
    "args = TrainingArguments(\n",
    "    output_dir=OUTPUT_DIR_HPO, \n",
    "    eval_strategy=\"epoch\",\n",
    "    save_strategy=\"no\",\n",
    "    report_to=\"none\",\n",
    "    metric_for_best_model=\"f1\",\n",
    "    greater_is_better=True,\n",
    "    seed=42, data_seed=42,   # fix seed during HPO; vary seeds later\n",
    ")\n",
    "\n",
    "trainer = Trainer(\n",
    "    args=args,\n",
    "    model_init=model_init,\n",
    "    train_dataset=split_train_dataset[\"train\"],\n",
    "    eval_dataset=split_train_dataset[\"test\"],\n",
    "    tokenizer=tokenizer,\n",
    "    data_collator=data_collator,\n",
    "    compute_metrics=compute_metrics,  # must return \"f1\", \"precision\", \"recall\", etc.\n",
    ")\n",
    "\n",
    "best_run = trainer.hyperparameter_search(\n",
    "    direction=\"maximize\",\n",
    "    hp_space=hp_space,\n",
    "    compute_objective=compute_objective,\n",
    "    n_trials=20,\n",
    "    backend=\"optuna\"\n",
    ")\n",
    "print(\"Best hyperparameters:\", best_run.hyperparameters)\n"
   ]
  },
  {
   "cell_type": "markdown",
   "id": "37bad4be",
   "metadata": {},
   "source": [
    "Train model with best hyperparameters"
   ]
  },
  {
   "cell_type": "code",
   "execution_count": null,
   "id": "bc0acc4b",
   "metadata": {},
   "outputs": [],
   "source": [
    "best_args = TrainingArguments(\n",
    "    output_dir=OUTPUT_DIR_FINAL,\n",
    "    eval_strategy=\"epoch\",\n",
    "    save_strategy=\"epoch\",\n",
    "    load_best_model_at_end=True,\n",
    "    metric_for_best_model=\"f1\",\n",
    "    greater_is_better=True,\n",
    "    report_to=[\"tensorboard\"],\n",
    "    seed=42, data_seed=42,\n",
    "    # merge best hyperparams (use .get in case some keys weren't tuned)\n",
    "    learning_rate=best_run.hyperparameters.get(\"learning_rate\", 5e-5),\n",
    "    num_train_epochs=best_run.hyperparameters.get(\"num_train_epochs\", 5),\n",
    "    per_device_train_batch_size=best_run.hyperparameters.get(\"per_device_train_batch_size\", 8),\n",
    "    weight_decay=best_run.hyperparameters.get(\"weight_decay\", 0.01),\n",
    "    warmup_ratio=best_run.hyperparameters.get(\"warmup_ratio\", 0.1),\n",
    ")\n",
    "\n",
    "final_trainer = Trainer(\n",
    "    args=best_args,\n",
    "    model_init=model_init,   # fresh model to train from scratch under best hparams\n",
    "    train_dataset=split_train_dataset[\"train\"],\n",
    "    eval_dataset=split_train_dataset[\"test\"],\n",
    "    tokenizer=tokenizer,\n",
    "    data_collator=data_collator,\n",
    "    compute_metrics=compute_metrics,\n",
    ")\n",
    "\n",
    "final_trainer.train() "
   ]
  },
  {
   "cell_type": "markdown",
   "id": "1209439a",
   "metadata": {},
   "source": [
    "Get metrics"
   ]
  },
  {
   "cell_type": "code",
   "execution_count": null,
   "id": "776111d0",
   "metadata": {},
   "outputs": [
    {
     "name": "stderr",
     "output_type": "stream",
     "text": [
      "Generating train split: 5418 examples [00:00, 124322.93 examples/s]\n",
      "Map: 100%|██████████| 5418/5418 [00:00<00:00, 7053.39 examples/s]\n",
      "Map: 100%|██████████| 5418/5418 [00:00<00:00, 14696.88 examples/s]\n",
      "Casting the dataset: 100%|██████████| 5418/5418 [00:00<00:00, 842686.95 examples/s]\n",
      "Map: 100%|██████████| 5418/5418 [00:00<00:00, 13747.16 examples/s]\n"
     ]
    },
    {
     "data": {
      "text/html": [
       "\n",
       "    <div>\n",
       "      \n",
       "      <progress value='678' max='678' style='width:300px; height:20px; vertical-align: middle;'></progress>\n",
       "      [678/678 00:31]\n",
       "    </div>\n",
       "    "
      ],
      "text/plain": [
       "<IPython.core.display.HTML object>"
      ]
     },
     "metadata": {},
     "output_type": "display_data"
    },
    {
     "name": "stdout",
     "output_type": "stream",
     "text": [
      "{'eval_loss': 0.04378490895032883, 'eval_precision': 0.7585371227142542, 'eval_recall': 0.879887554306159, 'eval_f1': 0.8147184098438239, 'eval_accuracy': 0.9849361291877561, 'eval_runtime': 33.7551, 'eval_samples_per_second': 160.509, 'eval_steps_per_second': 20.086, 'epoch': 4.0}\n"
     ]
    }
   ],
   "source": [
    "metrics = trainer.evaluate(eval_dataset=tokenized_test_dataset[\"train\"])\n",
    "print(metrics)"
   ]
  },
  {
   "cell_type": "markdown",
   "id": "6310c357",
   "metadata": {},
   "source": [
    "Save final model"
   ]
  },
  {
   "cell_type": "code",
   "execution_count": 60,
   "id": "00c59aef",
   "metadata": {},
   "outputs": [
    {
     "name": "stderr",
     "output_type": "stream",
     "text": [
      "Saving model checkpoint to /home/mv376/projects/CamemBERT-bio/models/almanach/camembert-bio-base\n",
      "Configuration saved in /home/mv376/projects/CamemBERT-bio/models/almanach/camembert-bio-base/config.json\n",
      "Model weights saved in /home/mv376/projects/CamemBERT-bio/models/almanach/camembert-bio-base/model.safetensors\n",
      "tokenizer config file saved in /home/mv376/projects/CamemBERT-bio/models/almanach/camembert-bio-base/tokenizer_config.json\n",
      "Special tokens file saved in /home/mv376/projects/CamemBERT-bio/models/almanach/camembert-bio-base/special_tokens_map.json\n"
     ]
    }
   ],
   "source": [
    "trainer.save_model(MODEL_SAVE_PATH)"
   ]
  }
 ],
 "metadata": {
  "kernelspec": {
   "display_name": "camembert",
   "language": "python",
   "name": "python3"
  },
  "language_info": {
   "codemirror_mode": {
    "name": "ipython",
    "version": 3
   },
   "file_extension": ".py",
   "mimetype": "text/x-python",
   "name": "python",
   "nbconvert_exporter": "python",
   "pygments_lexer": "ipython3",
   "version": "3.10.18"
  }
 },
 "nbformat": 4,
 "nbformat_minor": 5
}
