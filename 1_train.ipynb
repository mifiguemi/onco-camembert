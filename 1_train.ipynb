{
 "cells": [
  {
   "cell_type": "code",
   "execution_count": 1,
   "id": "b00cf2a7",
   "metadata": {},
   "outputs": [],
   "source": [
    "TRAIN_CSV_FILE = \"data/csv_format/ner_sentences_train.csv\"\n",
    "TEST_CSV_FILE =  \"data/csv_format/ner_sentences_test.csv\"\n",
    "MODEL_SAVE_PATH = \"models/model1_0\""
   ]
  },
  {
   "cell_type": "code",
   "execution_count": 2,
   "id": "5c18bddb",
   "metadata": {},
   "outputs": [
    {
     "name": "stderr",
     "output_type": "stream",
     "text": [
      "/home/mv376/miniconda3/envs/camembert/lib/python3.10/site-packages/tqdm/auto.py:21: TqdmWarning: IProgress not found. Please update jupyter and ipywidgets. See https://ipywidgets.readthedocs.io/en/stable/user_install.html\n",
      "  from .autonotebook import tqdm as notebook_tqdm\n"
     ]
    }
   ],
   "source": [
    "from transformers import AutoTokenizer \n",
    "\n",
    "tokenizer = AutoTokenizer.from_pretrained(\"camembert-base\")\n",
    "# tokenizer = AutoTokenizer.from_pretrained(\"almanach/camembert-bio-base\")"
   ]
  },
  {
   "cell_type": "code",
   "execution_count": 3,
   "id": "012625b3",
   "metadata": {},
   "outputs": [
    {
     "name": "stderr",
     "output_type": "stream",
     "text": [
      "Generating train split: 21670 examples [00:00, 132664.69 examples/s]\n",
      "Map: 100%|██████████| 21670/21670 [00:03<00:00, 6783.85 examples/s]\n",
      "Map: 100%|██████████| 21670/21670 [00:01<00:00, 16531.20 examples/s]\n",
      "Casting the dataset: 100%|██████████| 21670/21670 [00:00<00:00, 1181102.58 examples/s]\n"
     ]
    },
    {
     "data": {
      "text/plain": [
       "['<s>',\n",
       " '▁Di',\n",
       " 'agno',\n",
       " 'st',\n",
       " 'iqué',\n",
       " '▁en',\n",
       " '▁2010',\n",
       " '▁avec',\n",
       " '▁un',\n",
       " '▁l',\n",
       " 'ymph',\n",
       " 'ome',\n",
       " '▁diffus',\n",
       " '▁à',\n",
       " '▁cellules',\n",
       " '▁B',\n",
       " '▁avec',\n",
       " '▁atteinte',\n",
       " '▁rétro',\n",
       " 'péri',\n",
       " 'ton',\n",
       " 'é',\n",
       " 'ale',\n",
       " '▁',\n",
       " ',',\n",
       " '▁traité',\n",
       " '▁par',\n",
       " '▁Q',\n",
       " 'T',\n",
       " '▁selon',\n",
       " '▁R',\n",
       " '▁-',\n",
       " '▁CH',\n",
       " 'OP',\n",
       " '14',\n",
       " '▁X',\n",
       " '▁6',\n",
       " '▁cycles',\n",
       " '▁+',\n",
       " '▁2',\n",
       " '▁doses',\n",
       " '▁de',\n",
       " '▁rit',\n",
       " 'ux',\n",
       " 'im',\n",
       " 'ab',\n",
       " '▁sans',\n",
       " '▁aucun',\n",
       " '▁signe',\n",
       " '▁de',\n",
       " '▁maladie',\n",
       " '▁',\n",
       " 'hémat',\n",
       " 'ologique',\n",
       " '▁à',\n",
       " '▁ce',\n",
       " '▁jour',\n",
       " '▁',\n",
       " '.',\n",
       " '</s>']"
      ]
     },
     "execution_count": 3,
     "metadata": {},
     "output_type": "execute_result"
    }
   ],
   "source": [
    "from src.brat_utils import dataset_generator\n",
    "\n",
    "dataset = dataset_generator(TRAIN_CSV_FILE)\n",
    "example = dataset[\"train\"][2]\n",
    "tokenized_input = tokenizer(example[\"words\"], is_split_into_words=True)\n",
    "tokens = tokenizer.convert_ids_to_tokens(tokenized_input[\"input_ids\"])\n",
    "tokens"
   ]
  },
  {
   "cell_type": "code",
   "execution_count": 4,
   "id": "fde87299",
   "metadata": {},
   "outputs": [
    {
     "data": {
      "text/plain": [
       "['O',\n",
       " 'B-morphologie',\n",
       " 'I-morphologie',\n",
       " 'B-topographie',\n",
       " 'I-topographie',\n",
       " 'B-differenciation',\n",
       " 'I-differenciation',\n",
       " 'B-stade',\n",
       " 'I-stade']"
      ]
     },
     "execution_count": 4,
     "metadata": {},
     "output_type": "execute_result"
    }
   ],
   "source": [
    "label_list = dataset[\"train\"].features[f\"tags\"].feature.names\n",
    "label_list"
   ]
  },
  {
   "cell_type": "code",
   "execution_count": 5,
   "id": "0d30dd3e",
   "metadata": {},
   "outputs": [],
   "source": [
    "def tokenize_and_align_labels(examples):\n",
    "    tokenized_inputs = tokenizer(examples[\"words\"], truncation=True, is_split_into_words=True)\n",
    "    labels = []\n",
    "    for i, label in enumerate(examples[f\"tags\"]):\n",
    "        word_ids = tokenized_inputs.word_ids(batch_index=i) # Map tokens to their respective word\n",
    "        previous_word_idx = None\n",
    "        label_ids = []\n",
    "        for word_idx in word_ids: # Set the special tokens to -100.\n",
    "            if word_idx is None:\n",
    "                label_ids.append(-100)\n",
    "            elif word_idx != previous_word_idx: # Only label the first token of a given word. \n",
    "                label_ids.append(label[word_idx])\n",
    "            else:\n",
    "                label_ids.append(-100)\n",
    "            previous_word_idx = word_idx\n",
    "        labels.append(label_ids)\n",
    "    tokenized_inputs[\"labels\"] = labels\n",
    "    return tokenized_inputs"
   ]
  },
  {
   "cell_type": "code",
   "execution_count": 6,
   "id": "1bcc9821",
   "metadata": {},
   "outputs": [
    {
     "name": "stdout",
     "output_type": "stream",
     "text": [
      "Sample example: {'words': ['Diagnostiqué', 'en', '2010', 'avec', 'un', 'lymphome', 'diffus', 'à', 'cellules', 'B', 'avec', 'atteinte', 'rétropéritonéale', ',', 'traité', 'par', 'QT', 'selon', 'R', '-', 'CHOP14', 'X', '6', 'cycles', '+', '2', 'doses', 'de', 'rituximab', 'sans', 'aucun', 'signe', 'de', 'maladie', 'hématologique', 'à', 'ce', 'jour', '.'], 'tags': [0, 0, 0, 0, 0, 1, 2, 2, 2, 2, 0, 1, 3, 0, 0, 0, 0, 0, 0, 0, 0, 0, 0, 0, 0, 0, 0, 0, 0, 0, 0, 0, 0, 0, 0, 0, 0, 0, 0]}\n"
     ]
    }
   ],
   "source": [
    "example = dataset[\"train\"][2]\n",
    "print(\"Sample example:\", example)"
   ]
  },
  {
   "cell_type": "code",
   "execution_count": 7,
   "id": "9a7998f2",
   "metadata": {},
   "outputs": [
    {
     "name": "stderr",
     "output_type": "stream",
     "text": [
      "Map: 100%|██████████| 21670/21670 [00:01<00:00, 12216.77 examples/s]\n"
     ]
    },
    {
     "data": {
      "text/plain": [
       "'torch'"
      ]
     },
     "execution_count": 7,
     "metadata": {},
     "output_type": "execute_result"
    }
   ],
   "source": [
    "tokenized_dataset = dataset.map(tokenize_and_align_labels, batched=True)\n",
    "tokenized_dataset[\"train\"].set_format(type=\"torch\", columns=[\"input_ids\", \"attention_mask\", \"labels\"])\n",
    "tokenized_dataset[\"train\"].format['type']"
   ]
  },
  {
   "cell_type": "code",
   "execution_count": 8,
   "id": "5c1606bf",
   "metadata": {},
   "outputs": [],
   "source": [
    "from transformers import DataCollatorForTokenClassification\n",
    "import evaluate\n",
    "\n",
    "data_collator = DataCollatorForTokenClassification(tokenizer=tokenizer)\n",
    "seqeval = evaluate.load(\"seqeval\")\n"
   ]
  },
  {
   "cell_type": "code",
   "execution_count": 9,
   "id": "6027a24e",
   "metadata": {},
   "outputs": [],
   "source": [
    "import numpy as np\n",
    "\n",
    "labels = [label_list[i] for i in example[f\"tags\"]]\n",
    "\n",
    "def compute_metrics(p):\n",
    "    predictions, labels = p\n",
    "    predictions = np.argmax(predictions, axis=2)\n",
    "\n",
    "    true_predictions = [\n",
    "        [label_list[p] for (p, l) in zip(prediction, label) if l != -100]\n",
    "        for prediction, label in zip(predictions, labels)\n",
    "    ]\n",
    "    true_labels = [\n",
    "        [label_list[l] for (p, l) in zip(prediction, label) if l != -100]\n",
    "        for prediction, label in zip(predictions, labels)\n",
    "    ]\n",
    "\n",
    "    results = seqeval.compute(predictions=true_predictions, references=true_labels)\n",
    "    return {\n",
    "        \"precision\": results[\"overall_precision\"],\n",
    "        \"recall\": results[\"overall_recall\"],\n",
    "        \"f1\": results[\"overall_f1\"],\n",
    "        \"accuracy\": results[\"overall_accuracy\"],\n",
    "    }"
   ]
  },
  {
   "cell_type": "code",
   "execution_count": 10,
   "id": "9b18f804",
   "metadata": {},
   "outputs": [],
   "source": [
    "id2label = {\n",
    "    0: \"O\",\n",
    "    1: \"B-morphologie\",\n",
    "    2: \"I-morphologie\",\n",
    "    3: \"B-topographie\",\n",
    "    4: \"I-topographie\",\n",
    "    5: \"B-differenciation\",\n",
    "    6: \"I-differenciation\",\n",
    "    7: \"B-stade\",\n",
    "    8: \"I-stade\",\n",
    "}\n",
    "\n",
    "label2id = {\n",
    "    \"O\": 0,\n",
    "    \"B-morphologie\": 1,\n",
    "    \"I-morphologie\": 2,\n",
    "    \"B-topographie\": 3,\n",
    "    \"I-topographie\": 4,\n",
    "    \"B-differenciation\": 5,\n",
    "    \"I-differenciation\": 6,\n",
    "    \"B-stade\": 7,\n",
    "    \"I-stade\": 8,\n",
    "}"
   ]
  },
  {
   "cell_type": "code",
   "execution_count": 11,
   "id": "cc0b7517",
   "metadata": {},
   "outputs": [
    {
     "name": "stderr",
     "output_type": "stream",
     "text": [
      "Some weights of CamembertForTokenClassification were not initialized from the model checkpoint at almanach/camembert-bio-base and are newly initialized: ['classifier.bias', 'classifier.weight']\n",
      "You should probably TRAIN this model on a down-stream task to be able to use it for predictions and inference.\n"
     ]
    }
   ],
   "source": [
    "from transformers import AutoModelForTokenClassification, TrainingArguments, Trainer, EarlyStoppingCallback\n",
    "\n",
    "model = AutoModelForTokenClassification.from_pretrained(\n",
    "    \"almanach/camembert-bio-base\", num_labels=9, id2label=id2label, label2id=label2id\n",
    ")"
   ]
  },
  {
   "cell_type": "code",
   "execution_count": 12,
   "id": "37e3056a",
   "metadata": {},
   "outputs": [],
   "source": [
    "# Validation set by splitting\n",
    "split_train_dataset = tokenized_dataset[\"train\"].train_test_split(test_size=0.1)"
   ]
  },
  {
   "cell_type": "code",
   "execution_count": 13,
   "id": "35cc45df",
   "metadata": {},
   "outputs": [
    {
     "data": {
      "text/html": [
       "\n",
       "    <div>\n",
       "      \n",
       "      <progress value='9752' max='12190' style='width:300px; height:20px; vertical-align: middle;'></progress>\n",
       "      [ 9752/12190 29:46 < 07:26, 5.46 it/s, Epoch 4/5]\n",
       "    </div>\n",
       "    <table border=\"1\" class=\"dataframe\">\n",
       "  <thead>\n",
       " <tr style=\"text-align: left;\">\n",
       "      <th>Epoch</th>\n",
       "      <th>Training Loss</th>\n",
       "      <th>Validation Loss</th>\n",
       "      <th>Precision</th>\n",
       "      <th>Recall</th>\n",
       "      <th>F1</th>\n",
       "      <th>Accuracy</th>\n",
       "    </tr>\n",
       "  </thead>\n",
       "  <tbody>\n",
       "    <tr>\n",
       "      <td>1</td>\n",
       "      <td>0.044600</td>\n",
       "      <td>0.054363</td>\n",
       "      <td>0.763903</td>\n",
       "      <td>0.849831</td>\n",
       "      <td>0.804579</td>\n",
       "      <td>0.983046</td>\n",
       "    </tr>\n",
       "    <tr>\n",
       "      <td>2</td>\n",
       "      <td>0.034600</td>\n",
       "      <td>0.048970</td>\n",
       "      <td>0.773150</td>\n",
       "      <td>0.887514</td>\n",
       "      <td>0.826394</td>\n",
       "      <td>0.984578</td>\n",
       "    </tr>\n",
       "    <tr>\n",
       "      <td>3</td>\n",
       "      <td>0.027300</td>\n",
       "      <td>0.058638</td>\n",
       "      <td>0.757533</td>\n",
       "      <td>0.904949</td>\n",
       "      <td>0.824705</td>\n",
       "      <td>0.983026</td>\n",
       "    </tr>\n",
       "    <tr>\n",
       "      <td>4</td>\n",
       "      <td>0.014600</td>\n",
       "      <td>0.059189</td>\n",
       "      <td>0.809723</td>\n",
       "      <td>0.871204</td>\n",
       "      <td>0.839339</td>\n",
       "      <td>0.985375</td>\n",
       "    </tr>\n",
       "  </tbody>\n",
       "</table><p>"
      ],
      "text/plain": [
       "<IPython.core.display.HTML object>"
      ]
     },
     "metadata": {},
     "output_type": "display_data"
    },
    {
     "data": {
      "text/plain": [
       "TrainOutput(global_step=9752, training_loss=0.05306035815031437, metrics={'train_runtime': 1787.8864, 'train_samples_per_second': 54.542, 'train_steps_per_second': 6.818, 'total_flos': 3640364165547414.0, 'train_loss': 0.05306035815031437, 'epoch': 4.0})"
      ]
     },
     "execution_count": 13,
     "metadata": {},
     "output_type": "execute_result"
    }
   ],
   "source": [
    "training_args = TrainingArguments(\n",
    "    output_dir = \"small_batch\",\n",
    "    remove_unused_columns=False,\n",
    "    logging_dir=\"logs\",\n",
    "    logging_steps=100,           # log every N steps\n",
    "    report_to=\"none\",           # suppress wandb/tensorboard\n",
    "    num_train_epochs=5,\n",
    "    save_total_limit=1,      # keep only the latest checkpoint\n",
    "    load_best_model_at_end=True,\n",
    "    metric_for_best_model=\"eval_loss\",\n",
    "    save_strategy=\"epoch\",             # checkpoint each epoch\n",
    "    eval_strategy=\"epoch\",             # evaluate each epoch\n",
    ")\n",
    "\n",
    "trainer = Trainer(\n",
    "    model=model,\n",
    "    args=training_args,\n",
    "    train_dataset=split_train_dataset[\"train\"],\n",
    "    eval_dataset=split_train_dataset[\"test\"],\n",
    "    processing_class=tokenizer,\n",
    "    data_collator=data_collator, \n",
    "    compute_metrics=compute_metrics,\n",
    "    callbacks=[EarlyStoppingCallback(early_stopping_patience=2)]\n",
    ")\n",
    "\n",
    "trainer.train() \n"
   ]
  },
  {
   "cell_type": "code",
   "execution_count": 14,
   "id": "776111d0",
   "metadata": {},
   "outputs": [
    {
     "name": "stderr",
     "output_type": "stream",
     "text": [
      "Generating train split: 5418 examples [00:00, 124322.93 examples/s]\n",
      "Map: 100%|██████████| 5418/5418 [00:00<00:00, 7053.39 examples/s]\n",
      "Map: 100%|██████████| 5418/5418 [00:00<00:00, 14696.88 examples/s]\n",
      "Casting the dataset: 100%|██████████| 5418/5418 [00:00<00:00, 842686.95 examples/s]\n",
      "Map: 100%|██████████| 5418/5418 [00:00<00:00, 13747.16 examples/s]\n"
     ]
    },
    {
     "data": {
      "text/html": [
       "\n",
       "    <div>\n",
       "      \n",
       "      <progress value='678' max='678' style='width:300px; height:20px; vertical-align: middle;'></progress>\n",
       "      [678/678 00:31]\n",
       "    </div>\n",
       "    "
      ],
      "text/plain": [
       "<IPython.core.display.HTML object>"
      ]
     },
     "metadata": {},
     "output_type": "display_data"
    },
    {
     "name": "stdout",
     "output_type": "stream",
     "text": [
      "{'eval_loss': 0.04378490895032883, 'eval_precision': 0.7585371227142542, 'eval_recall': 0.879887554306159, 'eval_f1': 0.8147184098438239, 'eval_accuracy': 0.9849361291877561, 'eval_runtime': 33.7551, 'eval_samples_per_second': 160.509, 'eval_steps_per_second': 20.086, 'epoch': 4.0}\n"
     ]
    }
   ],
   "source": [
    "test_dataset = dataset_generator(TEST_CSV_FILE)\n",
    "tokenized_test_dataset = test_dataset.map(tokenize_and_align_labels, batched=True)\n",
    "tokenized_test_dataset[\"train\"].set_format(type=\"torch\", columns=[\"input_ids\", \"attention_mask\", \"labels\"])\n",
    "tokenized_test_dataset[\"train\"].format['type']\n",
    "metrics = trainer.evaluate(eval_dataset=tokenized_test_dataset[\"train\"])\n",
    "print(metrics)"
   ]
  },
  {
   "cell_type": "code",
   "execution_count": 15,
   "id": "00c59aef",
   "metadata": {},
   "outputs": [],
   "source": [
    "trainer.save_model(MODEL_SAVE_PATH)"
   ]
  },
  {
   "cell_type": "code",
   "execution_count": null,
   "id": "e9a9e6b7",
   "metadata": {},
   "outputs": [],
   "source": []
  }
 ],
 "metadata": {
  "kernelspec": {
   "display_name": "camembert",
   "language": "python",
   "name": "python3"
  },
  "language_info": {
   "codemirror_mode": {
    "name": "ipython",
    "version": 3
   },
   "file_extension": ".py",
   "mimetype": "text/x-python",
   "name": "python",
   "nbconvert_exporter": "python",
   "pygments_lexer": "ipython3",
   "version": "3.10.18"
  }
 },
 "nbformat": 4,
 "nbformat_minor": 5
}
